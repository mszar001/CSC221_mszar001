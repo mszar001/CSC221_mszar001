{
  "nbformat": 4,
  "nbformat_minor": 0,
  "metadata": {
    "colab": {
      "provenance": [],
      "authorship_tag": "ABX9TyMJardViLPwS/Co3g6i4OiY",
      "include_colab_link": true
    },
    "kernelspec": {
      "name": "python3",
      "display_name": "Python 3"
    },
    "language_info": {
      "name": "python"
    }
  },
  "cells": [
    {
      "cell_type": "markdown",
      "metadata": {
        "id": "view-in-github",
        "colab_type": "text"
      },
      "source": [
        "<a href=\"https://colab.research.google.com/github/mszar001/CSC221_mszar001/blob/main/Assignment14.ipynb\" target=\"_parent\"><img src=\"https://colab.research.google.com/assets/colab-badge.svg\" alt=\"Open In Colab\"/></a>"
      ]
    },
    {
      "cell_type": "code",
      "execution_count": 13,
      "metadata": {
        "colab": {
          "base_uri": "https://localhost:8080/"
        },
        "id": "8InL9Styfam_",
        "outputId": "754cd983-79f4-4cb8-bfd8-1e47fdec5a9d"
      },
      "outputs": [
        {
          "output_type": "stream",
          "name": "stdout",
          "text": [
            "Please input two numbers with an operator between them.5 + 2\n",
            "5.0 + 2.0 = 7.0\n"
          ]
        }
      ],
      "source": [
        "working1 = False\n",
        "working2 = False\n",
        "while working1 == False and working2 == False:\n",
        "  calc = input(\"Please input two numbers with an operator between them.\")\n",
        "\n",
        "  calcList = calc.split(\" \")\n",
        "\n",
        "  try:\n",
        "    num1 = float(calcList[0])\n",
        "    operator = calcList[1]\n",
        "    num2 = float(calcList[2])\n",
        "    ans = float\n",
        "    working1 = True\n",
        "\n",
        "    if operator == '+':\n",
        "      ans = num1 + num2\n",
        "      working2 = True\n",
        "    elif operator == '-':\n",
        "      ans = num1 - num2\n",
        "      working2 = True\n",
        "    elif operator == '*':\n",
        "      ans = num1 * num2\n",
        "      working2 = True\n",
        "    elif operator == '/':\n",
        "      ans = num1 / num2\n",
        "      working2 = True\n",
        "    else:\n",
        "      print(\"You must use a simple operator ex: + - * /\")\n",
        "      continue\n",
        "  except(ValueError):\n",
        "    print(\"You must use two numbers in this calculator\")\n",
        "    continue\n",
        "\n",
        "print(f\"{num1} {operator} {num2} = {ans}\")\n"
      ]
    },
    {
      "cell_type": "markdown",
      "source": [
        "Since I couldn't properly figure out Assignment 13, I'll have to leave this as is. Sorry about that."
      ],
      "metadata": {
        "id": "jJoCj7h8lC4B"
      }
    }
  ]
}