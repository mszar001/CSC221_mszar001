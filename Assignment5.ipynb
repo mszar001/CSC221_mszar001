{
  "nbformat": 4,
  "nbformat_minor": 0,
  "metadata": {
    "colab": {
      "provenance": [],
      "authorship_tag": "ABX9TyPDqehBSmHpe6aZCl/HPbBp",
      "include_colab_link": true
    },
    "kernelspec": {
      "name": "python3",
      "display_name": "Python 3"
    },
    "language_info": {
      "name": "python"
    }
  },
  "cells": [
    {
      "cell_type": "markdown",
      "metadata": {
        "id": "view-in-github",
        "colab_type": "text"
      },
      "source": [
        "<a href=\"https://colab.research.google.com/github/mszar001/CSC221_mszar001/blob/main/Assignment5.ipynb\" target=\"_parent\"><img src=\"https://colab.research.google.com/assets/colab-badge.svg\" alt=\"Open In Colab\"/></a>"
      ]
    },
    {
      "cell_type": "code",
      "execution_count": 1,
      "metadata": {
        "id": "NbHwEHdvWlAY"
      },
      "outputs": [],
      "source": [
        "#Makenna Szary\n",
        "#Assignment 5"
      ]
    },
    {
      "cell_type": "code",
      "source": [
        "#'magicians.py'\n",
        "\n",
        "magicians = ['alice', 'david', 'carolina']\n",
        "for magicians in magicians:\n",
        "  print(f\"{magicians.title()}, that was a great trick!\")\n",
        "  print(f\"I can't wait to see your next trick, {magicians.title()}.\\n\")\n",
        "\n",
        "print(\"Thank you everyone, that was a great magic show!\")\n"
      ],
      "metadata": {
        "colab": {
          "base_uri": "https://localhost:8080/"
        },
        "id": "rNTlGu_-aJCw",
        "outputId": "9881a9ab-3fe5-4008-f2b8-116f61e29c6c"
      },
      "execution_count": 6,
      "outputs": [
        {
          "output_type": "stream",
          "name": "stdout",
          "text": [
            "Alice, that was a great trick!\n",
            "I can't wait to see your next trick, Alice.\n",
            "\n",
            "David, that was a great trick!\n",
            "I can't wait to see your next trick, David.\n",
            "\n",
            "Carolina, that was a great trick!\n",
            "I can't wait to see your next trick, Carolina.\n",
            "\n",
            "Thank you everyone, that was a great magic show!\n"
          ]
        }
      ]
    },
    {
      "cell_type": "code",
      "source": [
        "#4-1 'pizzas'\n",
        "\n",
        "pizzas = ['cheese', 'pepperoni', 'hawaiian']\n",
        "for pizzas in pizzas:\n",
        "  print(f\"I like {pizzas} pizza!\")\n",
        "print(\"Pizza is overall really good.\\n\")\n",
        "\n",
        "#4-2 'animals'\n",
        "#The same as the last one, sure, but I know I need to learn for loops better.\n",
        "\n",
        "animals = ['whale', 'dolphin', 'shark']\n",
        "for animals in animals:\n",
        "  print(f\"{animals.title()} are cool ocean animals\")\n",
        "print(\"All of these animals are awesome sea creatures!\")"
      ],
      "metadata": {
        "colab": {
          "base_uri": "https://localhost:8080/"
        },
        "id": "q56ryEVHbNB8",
        "outputId": "a09fb560-9276-4351-ca39-af976b69abf4"
      },
      "execution_count": 9,
      "outputs": [
        {
          "output_type": "stream",
          "name": "stdout",
          "text": [
            "I like cheese pizza!\n",
            "I like pepperoni pizza!\n",
            "I like hawaiian pizza!\n",
            "Pizza is overall really good.\n",
            "\n",
            "Whale are cool ocean animals\n",
            "Dolphin are cool ocean animals\n",
            "Shark are cool ocean animals\n",
            "All of these animals are awesome sea creatures!\n"
          ]
        }
      ]
    },
    {
      "cell_type": "code",
      "source": [
        "#first_numbers.py\n",
        "\n",
        "for value in range(1,6):\n",
        "  print(value)\n",
        "\n",
        "numbers = list(range(1,6))\n",
        "print(numbers)\n",
        "\n",
        "#even_numbers.py\n",
        "\n",
        "even_numbers = list(range(2, 11, 2))\n",
        "print(even_numbers)\n",
        "\n",
        "#square_numbers.py\n",
        "\n",
        "squares = []\n",
        "for value in range(1,11):\n",
        "  squares.append(value ** 2)\n",
        "print(squares)\n",
        "\n",
        "#'digits'\n",
        "\n",
        "digits = [1,2,3,4,5,6,7,8,9,0]\n",
        "print(min(digits))\n",
        "print(max(digits))\n",
        "print(sum(digits))\n",
        "\n",
        "#squares.py\n",
        "\n",
        "squares = [value**2 for value in range(1,11)]\n",
        "print(squares)\n"
      ],
      "metadata": {
        "colab": {
          "base_uri": "https://localhost:8080/"
        },
        "id": "uvQtjCm1cxhe",
        "outputId": "afe51fa3-d7cf-4349-e346-998c72796e88"
      },
      "execution_count": 19,
      "outputs": [
        {
          "output_type": "stream",
          "name": "stdout",
          "text": [
            "1\n",
            "2\n",
            "3\n",
            "4\n",
            "5\n",
            "[1, 2, 3, 4, 5]\n",
            "[2, 4, 6, 8, 10]\n",
            "[1, 4, 9, 16, 25, 36, 49, 64, 81, 100]\n",
            "0\n",
            "9\n",
            "45\n",
            "[1, 4, 9, 16, 25, 36, 49, 64, 81, 100]\n"
          ]
        }
      ]
    },
    {
      "cell_type": "code",
      "source": [
        "#4-3 'Counting to Twenty'\n",
        "for value in range(1,21):\n",
        "  print(value)\n",
        "\n",
        "print(\"\\n\")\n",
        "#4-4 'One Million' I'm.. actually not writing this one out. It's the exact same as the 4-3 except to a million, and I don't want to print out that many numbers.\n",
        "\n",
        "#4-5 'Summing a Million' Just hope I don't break it haha!\n",
        "\n",
        "num = []\n",
        "for value in range(1,1000001):\n",
        "  num.append(value)\n",
        "print(max(num))\n",
        "print(min(num))\n",
        "print(sum(num))\n",
        "\n",
        "print(\"\\n\")\n",
        "#4-6 'Odd Numbers'\n",
        "\n",
        "for value in range(1,20,2):\n",
        "  print(value)\n",
        "\n",
        "print(\"\\n\")\n",
        "#4-7 'Threes' Also kinda repetative, but doing it anyway\n",
        "\n",
        "for value in range(3,30,3):\n",
        "  print(value)\n",
        "\n",
        "print(\"\\n\")\n",
        "#4-8 'Cubes' and 4-9 'Cube comprehension' Pressed into one for simplicity's sake\n",
        "\n",
        "cube = [value ** 3 for value in range(1,11)]\n",
        "print(cube)"
      ],
      "metadata": {
        "colab": {
          "base_uri": "https://localhost:8080/"
        },
        "id": "RTYWI8yhxfPr",
        "outputId": "a8fc908c-d3d5-40c6-b419-46d13ead2def"
      },
      "execution_count": 29,
      "outputs": [
        {
          "output_type": "stream",
          "name": "stdout",
          "text": [
            "1\n",
            "2\n",
            "3\n",
            "4\n",
            "5\n",
            "6\n",
            "7\n",
            "8\n",
            "9\n",
            "10\n",
            "11\n",
            "12\n",
            "13\n",
            "14\n",
            "15\n",
            "16\n",
            "17\n",
            "18\n",
            "19\n",
            "20\n",
            "\n",
            "\n",
            "1000000\n",
            "1\n",
            "500000500000\n",
            "\n",
            "\n",
            "1\n",
            "3\n",
            "5\n",
            "7\n",
            "9\n",
            "11\n",
            "13\n",
            "15\n",
            "17\n",
            "19\n",
            "\n",
            "\n",
            "3\n",
            "6\n",
            "9\n",
            "12\n",
            "15\n",
            "18\n",
            "21\n",
            "24\n",
            "27\n",
            "\n",
            "\n",
            "[1, 8, 27, 64, 125, 216, 343, 512, 729, 1000]\n"
          ]
        }
      ]
    },
    {
      "cell_type": "code",
      "source": [
        "#players.py\n",
        "\n",
        "players = ['charles', 'martina', 'michael', 'florence', 'eli']\n",
        "print(players[:4])\n",
        "print(players[2:])\n",
        "print(players[-2:])\n",
        "print(\"\\n\")\n",
        "\n",
        "print(\"Here are the first three players on the team:\")\n",
        "for players in players[:3]:\n",
        "  print(players.title())\n",
        "print(\"\\n\")\n",
        "\n",
        "#foods.py\n",
        "\n",
        "my_foods = ['pizza', 'falafel', 'carrot cake']\n",
        "friend_foods = my_foods[:]\n",
        "my_foods.append('cannoli')\n",
        "friend_foods.append('ice cream')\n",
        "\n",
        "print(\"My favorite foods are:\")\n",
        "print(my_foods)\n",
        "print(\"\\nMy friend's favorite foods are:\")\n",
        "print(friend_foods)"
      ],
      "metadata": {
        "colab": {
          "base_uri": "https://localhost:8080/"
        },
        "id": "yNakRCNu2qEi",
        "outputId": "c6089df2-9853-4095-baf1-a1681e62ff9f"
      },
      "execution_count": 39,
      "outputs": [
        {
          "output_type": "stream",
          "name": "stdout",
          "text": [
            "['charles', 'martina', 'michael', 'florence']\n",
            "['michael', 'florence', 'eli']\n",
            "['florence', 'eli']\n",
            "\n",
            "\n",
            "Here are the first three players on the team:\n",
            "Charles\n",
            "Martina\n",
            "Michael\n",
            "\n",
            "\n",
            "My favorite foods are:\n",
            "['pizza', 'falafel', 'carrot cake', 'cannoli']\n",
            "\n",
            "My friend's favorite foods are:\n",
            "['pizza', 'falafel', 'carrot cake', 'ice cream']\n"
          ]
        }
      ]
    },
    {
      "cell_type": "code",
      "source": [
        "#4-10 'Slices' (From 4-9 'Cube Comprehension')\n",
        "cube = [value ** 3 for value in range(1,11)]\n",
        "print(cube)\n",
        "print(f\"The first three numbers are: {cube[:3]}\")\n",
        "print(f\"Three numbers from the middle are: {cube[4:7]}\")\n",
        "print(f\"The last three numbers are: {cube[-3:]}\")\n",
        "\n",
        "print(\"\\n\")\n",
        "#4-11 'My Pizzas, Your Pizzas'\n",
        "\n",
        "pizzas = ['cheese', 'pepperoni', 'hawaiian']\n",
        "friend_pizzas = pizzas[:]\n",
        "pizzas.append('sausage')\n",
        "friend_pizzas.append('bacon')\n",
        "for pizzas in pizzas:\n",
        "  print(f\"My favorite pizzas are {pizzas}\")\n",
        "for friend_pizzas in friend_pizzas:\n",
        "  print(f\"My friend's favorite pizzas are {friend_pizzas}\")\n",
        "\n",
        "print(\"\\n\")\n",
        "#4-12 'More Loops'\n",
        "\n",
        "my_foods = ['pizza', 'falafel', 'carrot cake']\n",
        "friend_foods = my_foods[:]\n",
        "my_foods.append('cannoli')\n",
        "friend_foods.append('ice cream')\n",
        "\n",
        "for my_foods in my_foods:\n",
        "  print(f\"I like {my_foods}\")\n",
        "for friend_foods in friend_foods:\n",
        "  print(f\"My friend likes {friend_foods}\")\n"
      ],
      "metadata": {
        "colab": {
          "base_uri": "https://localhost:8080/"
        },
        "id": "N-Ddazzj496g",
        "outputId": "cb26a6c5-6e10-4e58-a06f-dfd3f93aa4bc"
      },
      "execution_count": 51,
      "outputs": [
        {
          "output_type": "stream",
          "name": "stdout",
          "text": [
            "[1, 8, 27, 64, 125, 216, 343, 512, 729, 1000]\n",
            "The first three numbers are: [1, 8, 27]\n",
            "Three numbers from the middle are: [125, 216, 343]\n",
            "The last three numbers are: [512, 729, 1000]\n",
            "\n",
            "\n",
            "My favorite pizzas are cheese\n",
            "My favorite pizzas are pepperoni\n",
            "My favorite pizzas are hawaiian\n",
            "My favorite pizzas are sausage\n",
            "My friend's favorite pizzas are cheese\n",
            "My friend's favorite pizzas are pepperoni\n",
            "My friend's favorite pizzas are hawaiian\n",
            "My friend's favorite pizzas are bacon\n",
            "\n",
            "\n",
            "I like pizza\n",
            "I like falafel\n",
            "I like carrot cake\n",
            "I like cannoli\n",
            "My friend likes pizza\n",
            "My friend likes falafel\n",
            "My friend likes carrot cake\n",
            "My friend likes ice cream\n"
          ]
        }
      ]
    },
    {
      "cell_type": "code",
      "source": [
        "#dimensions.py\n",
        "dimensions = (200,50)\n",
        "print(\"Original Dimensions\")\n",
        "for dimensions in dimensions:\n",
        "  print(dimensions)\n",
        "dimensions = (400,100)\n",
        "print(\"\\nModified Dimensions\")\n",
        "for dimensions in dimensions:\n",
        "  print(dimensions)\n",
        "\n",
        "print(\"\\n\")"
      ],
      "metadata": {
        "colab": {
          "base_uri": "https://localhost:8080/"
        },
        "id": "RE3SfFzf8wjX",
        "outputId": "d797e3e4-928e-419d-805d-fc062d8d7634"
      },
      "execution_count": 55,
      "outputs": [
        {
          "output_type": "stream",
          "name": "stdout",
          "text": [
            "Original Dimensions\n",
            "200\n",
            "50\n",
            "\n",
            "Modified Dimensions\n",
            "400\n",
            "100\n",
            "\n",
            "\n"
          ]
        }
      ]
    },
    {
      "cell_type": "code",
      "source": [
        "#4-13 'Buffet'\n",
        "\n",
        "foods = ('chicken', 'beef', 'ham', 'duck', 'salad')\n",
        "for foods in foods:\n",
        "  print(foods)\n",
        "\n",
        "print('\\nChange in Menu...')\n",
        "foods = ('chicken', 'beef', 'soup', 'fish', 'salad')\n",
        "for foods in foods:\n",
        "  print(foods)\n",
        "\n",
        "#4-14 'PEP 8' Consider it skimmed through. I have it bookmarked for future reference too.\n",
        "\n",
        "#4-15 'Code Review' I believe all of these settings are already active, but I glanced through them."
      ],
      "metadata": {
        "colab": {
          "base_uri": "https://localhost:8080/"
        },
        "id": "kpnzrM-m-beH",
        "outputId": "09563154-c31d-4928-ba52-711aeeaf1a6c"
      },
      "execution_count": 61,
      "outputs": [
        {
          "output_type": "stream",
          "name": "stdout",
          "text": [
            "chicken\n",
            "beef\n",
            "ham\n",
            "duck\n",
            "salad\n",
            "\n",
            "Change in Menu...\n",
            "chicken\n",
            "beef\n",
            "soup\n",
            "fish\n",
            "salad\n"
          ]
        }
      ]
    },
    {
      "cell_type": "code",
      "source": [
        "#'Factorial'\n",
        "\n",
        "'''def factorial(n):\n",
        "  for n in range(1,n):\n",
        "    return (n * factorial(n))'''\n",
        "\n",
        "\n",
        "def factorial(n):\n",
        "  my_list = []\n",
        "  result = 1\n",
        "  for value in range(1,n+1):\n",
        "    my_list.append(value)\n",
        "  for value in my_list:\n",
        "    result *= value\n",
        "  return(result)\n",
        "\n",
        "print(factorial(5))\n",
        "print(factorial(10))\n",
        "print(factorial(20))\n",
        "print(factorial(50))\n",
        "print(\"\\n\")\n",
        "\n",
        "def special_factorial(n):\n",
        "  my_list = []\n",
        "  result = 1\n",
        "  for value in range(1,n+1):\n",
        "    my_list.append(value)\n",
        "  if(n >= 4):\n",
        "    my_list.remove(4)\n",
        "  if(n >= 13):\n",
        "    my_list.remove(13)\n",
        "  if(n >= 22):\n",
        "    my_list.remove(22)\n",
        "  for value in my_list:\n",
        "    result *= value\n",
        "  return(result)\n",
        "\n",
        "print(special_factorial(5))\n",
        "print(special_factorial(10))\n",
        "print(special_factorial(20))\n",
        "print(special_factorial(50))"
      ],
      "metadata": {
        "colab": {
          "base_uri": "https://localhost:8080/"
        },
        "id": "FoXoa3iY_hvB",
        "outputId": "3b82276f-4311-4209-8a1d-e0e3257c2de7"
      },
      "execution_count": 112,
      "outputs": [
        {
          "output_type": "stream",
          "name": "stdout",
          "text": [
            "120\n",
            "3628800\n",
            "2432902008176640000\n",
            "30414093201713378043612608166064768844377641568960512000000000000\n",
            "\n",
            "\n",
            "30\n",
            "907200\n",
            "46786577080320000\n",
            "26585745805693512275885146998308364374455980392448000000000000\n"
          ]
        }
      ]
    }
  ]
}