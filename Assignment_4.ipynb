{
  "nbformat": 4,
  "nbformat_minor": 0,
  "metadata": {
    "colab": {
      "provenance": [],
      "authorship_tag": "ABX9TyNizC62mjUiLkuxMywVCd/P",
      "include_colab_link": true
    },
    "kernelspec": {
      "name": "python3",
      "display_name": "Python 3"
    },
    "language_info": {
      "name": "python"
    }
  },
  "cells": [
    {
      "cell_type": "markdown",
      "metadata": {
        "id": "view-in-github",
        "colab_type": "text"
      },
      "source": [
        "<a href=\"https://colab.research.google.com/github/mszar001/CSC221_mszar001/blob/main/Assignment_4.ipynb\" target=\"_parent\"><img src=\"https://colab.research.google.com/assets/colab-badge.svg\" alt=\"Open In Colab\"/></a>"
      ]
    },
    {
      "cell_type": "code",
      "execution_count": 4,
      "metadata": {
        "colab": {
          "base_uri": "https://localhost:8080/"
        },
        "id": "Sj_IBc83oXBO",
        "outputId": "a58c0e1b-0199-4ee5-e810-601152da4f27"
      },
      "outputs": [
        {
          "output_type": "stream",
          "name": "stdout",
          "text": [
            "Hello Erica!\n",
            "Hello Morgan!\n",
            "Hello Ashe!\n"
          ]
        }
      ],
      "source": [
        "#3-1 and 3-2\n",
        "names = [\"Erica\", \"Morgan\", \"Ashe\"]\n",
        "print(\"Hello \" + names[0] + \"!\")\n",
        "print(\"Hello \" + names[1] + \"!\")\n",
        "print(\"Hello \" + names[2] + \"!\")"
      ]
    },
    {
      "cell_type": "code",
      "source": [
        "#3-3 is.. pretty much the same thing, so I won't bother with it"
      ],
      "metadata": {
        "id": "W9ogJZCMpfBN"
      },
      "execution_count": 5,
      "outputs": []
    },
    {
      "cell_type": "code",
      "source": [
        "#3-4, 3-5, 3-6, 3-7, and 3-9 (Just a note, all of these people are people I know)\n",
        "guestList = [\"Dana\", \"Matthew\", \"Westley\", \"Lauri\"]\n",
        "i = 0\n",
        "while (i < 4):\n",
        "  print(\"Would you like to have dinner with me \" + guestList[i] + \" ?\")\n",
        "  i = i+1\n",
        "\n",
        "print(\"Apparently, Westley cannot come.\")\n",
        "\n",
        "guestList.remove(\"Westley\")\n",
        "guestList.append(\"Tim\")\n",
        "i = 0\n",
        "while (i < 4):\n",
        "  print(\"Would you like to have dinner with me \" + guestList[i] + \" ?\")\n",
        "  i = i+1\n",
        "\n",
        "print(\"It seems we have more space now.\")\n",
        "\n",
        "guestList.insert(0, \"Stephanie\")\n",
        "guestList.insert(3, \"Steven\")\n",
        "guestList.append(\"Andrew\")\n",
        "i = 0\n",
        "while (i < 5):\n",
        "  print(\"Would you like to have dinner with me \" + guestList[i] + \" ?\")\n",
        "  i = i+1\n",
        "print (len(guestList))                    #This is 3-9's portion\n",
        "\n",
        "print(\"Oh, apparently only two can come, sorry..\")\n",
        "\n",
        "guestsRemoved = guestList.pop(0)\n",
        "print(\"Sorry \" + guestsRemoved + \", it seems you can't come.\")\n",
        "guestsRemoved = guestList.pop(3)\n",
        "print(\"Sorry \" + guestsRemoved + \", it seems you can't come.\")\n",
        "guestsRemoved = guestList.pop(3)\n",
        "print(\"Sorry \" + guestsRemoved + \", it seems you can't come.\")\n",
        "guestsRemoved = guestList.pop(3)\n",
        "print(\"Sorry \" + guestsRemoved + \", it seems you can't come.\")\n",
        "guestsRemoved = guestList.pop(2)\n",
        "print(\"Sorry \" + guestsRemoved + \", it seems you can't come.\")\n",
        "\n",
        "print(\"Hello! You are still invited \" + guestList[0] + \"!\")\n",
        "print(\"Hello! You are still invited \" + guestList[1] + \"!\")\n",
        "\n",
        "guestList.remove(\"Dana\")\n",
        "guestList.remove(\"Matthew\")\n",
        "\n",
        "print(guestList)\n",
        "\n",
        "#I decided to use a while loop on some cause it's more fun in my opinion than copy pasting however many times"
      ],
      "metadata": {
        "colab": {
          "base_uri": "https://localhost:8080/"
        },
        "id": "gfHn839dqOuZ",
        "outputId": "b0e050f7-ec58-4356-f78c-1f36a8dee39e"
      },
      "execution_count": 43,
      "outputs": [
        {
          "output_type": "stream",
          "name": "stdout",
          "text": [
            "Would you like to have dinner with me Dana ?\n",
            "Would you like to have dinner with me Matthew ?\n",
            "Would you like to have dinner with me Westley ?\n",
            "Would you like to have dinner with me Lauri ?\n",
            "Apparently, Westley cannot come.\n",
            "Would you like to have dinner with me Dana ?\n",
            "Would you like to have dinner with me Matthew ?\n",
            "Would you like to have dinner with me Lauri ?\n",
            "Would you like to have dinner with me Tim ?\n",
            "It seems we have more space now.\n",
            "Would you like to have dinner with me Stephanie ?\n",
            "Would you like to have dinner with me Dana ?\n",
            "Would you like to have dinner with me Matthew ?\n",
            "Would you like to have dinner with me Steven ?\n",
            "Would you like to have dinner with me Lauri ?\n",
            "7\n",
            "Oh, apparently only two can come, sorry..\n",
            "Sorry Stephanie, it seems you can't come.\n",
            "Sorry Lauri, it seems you can't come.\n",
            "Sorry Tim, it seems you can't come.\n",
            "Sorry Andrew, it seems you can't come.\n",
            "Sorry Steven, it seems you can't come.\n",
            "Hello! You are still invited Dana!\n",
            "Hello! You are still invited Matthew!\n",
            "[]\n"
          ]
        }
      ]
    },
    {
      "cell_type": "code",
      "source": [
        "#3-8\n",
        "places = [\"France\", \"Oregon\", \"NASA\", \"South Korea\", \"Alaska\"]\n",
        "print(places)\n",
        "print(sorted(places))\n",
        "print(places)\n",
        "print(sorted(places, reverse=True))\n",
        "print(places)\n",
        "places.reverse()\n",
        "print(places)\n",
        "places.reverse()\n",
        "print(places)\n",
        "places.sort()\n",
        "print(places)\n",
        "places.sort(reverse=True)\n",
        "print(places)"
      ],
      "metadata": {
        "colab": {
          "base_uri": "https://localhost:8080/"
        },
        "id": "knWDbKCVtOk4",
        "outputId": "42943214-76fd-426f-c6cf-68f29d104be9"
      },
      "execution_count": 39,
      "outputs": [
        {
          "output_type": "stream",
          "name": "stdout",
          "text": [
            "['France', 'Oregon', 'NASA', 'South Korea', 'Alaska']\n",
            "['Alaska', 'France', 'NASA', 'Oregon', 'South Korea']\n",
            "['France', 'Oregon', 'NASA', 'South Korea', 'Alaska']\n",
            "['South Korea', 'Oregon', 'NASA', 'France', 'Alaska']\n",
            "['France', 'Oregon', 'NASA', 'South Korea', 'Alaska']\n",
            "['Alaska', 'South Korea', 'NASA', 'Oregon', 'France']\n",
            "['France', 'Oregon', 'NASA', 'South Korea', 'Alaska']\n",
            "['Alaska', 'France', 'NASA', 'Oregon', 'South Korea']\n",
            "['South Korea', 'Oregon', 'NASA', 'France', 'Alaska']\n"
          ]
        }
      ]
    },
    {
      "cell_type": "code",
      "source": [
        "#3-10\n",
        "languages = [\"English\", \"Spanish\", \"French\", \"German\"]\n",
        "print(languages)\n",
        "languages.append(\"Latin\")\n",
        "print(languages)\n",
        "print(sorted(languages))\n",
        "print(sorted(languages, reverse=True))\n",
        "languages.sort()\n",
        "print(languages)\n",
        "languages.reverse()\n",
        "print(languages)\n",
        "languages.remove(\"Latin\")\n",
        "print(languages)\n",
        "del languages[0]\n",
        "print(languages)\n",
        "lang2 = languages.pop()\n",
        "print(languages)\n",
        "print(lang2)\n",
        "#Sorry if I forgot any of them"
      ],
      "metadata": {
        "colab": {
          "base_uri": "https://localhost:8080/"
        },
        "id": "DsGTVwYwMmVp",
        "outputId": "09252b61-dfaa-475c-9c8e-54359a718d1f"
      },
      "execution_count": 50,
      "outputs": [
        {
          "output_type": "stream",
          "name": "stdout",
          "text": [
            "['English', 'Spanish', 'French', 'German']\n",
            "['English', 'Spanish', 'French', 'German', 'Latin']\n",
            "['English', 'French', 'German', 'Latin', 'Spanish']\n",
            "['Spanish', 'Latin', 'German', 'French', 'English']\n",
            "['English', 'French', 'German', 'Latin', 'Spanish']\n",
            "['Spanish', 'Latin', 'German', 'French', 'English']\n",
            "['Spanish', 'German', 'French', 'English']\n",
            "['German', 'French', 'English']\n",
            "['German', 'French']\n",
            "English\n"
          ]
        }
      ]
    },
    {
      "cell_type": "code",
      "source": [
        "#3-11 is unneeded. I know what it's talking about though."
      ],
      "metadata": {
        "id": "QGaWSpp0QZo_"
      },
      "execution_count": null,
      "outputs": []
    }
  ]
}