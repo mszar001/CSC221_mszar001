{
  "nbformat": 4,
  "nbformat_minor": 0,
  "metadata": {
    "colab": {
      "provenance": [],
      "authorship_tag": "ABX9TyNgZXJu2m4i4yNzPzIPNiq1",
      "include_colab_link": true
    },
    "kernelspec": {
      "name": "python3",
      "display_name": "Python 3"
    },
    "language_info": {
      "name": "python"
    }
  },
  "cells": [
    {
      "cell_type": "markdown",
      "metadata": {
        "id": "view-in-github",
        "colab_type": "text"
      },
      "source": [
        "<a href=\"https://colab.research.google.com/github/mszar001/CSC221_mszar001/blob/main/Assignment_23_25.ipynb\" target=\"_parent\"><img src=\"https://colab.research.google.com/assets/colab-badge.svg\" alt=\"Open In Colab\"/></a>"
      ]
    },
    {
      "cell_type": "code",
      "execution_count": null,
      "metadata": {
        "colab": {
          "base_uri": "https://localhost:8080/"
        },
        "id": "oatSDGSMiTAE",
        "outputId": "98e82b5e-9b96-4687-fa96-093d8d386efa"
      },
      "outputs": [
        {
          "output_type": "stream",
          "name": "stdout",
          "text": [
            "5 + 2 is 7\n"
          ]
        }
      ],
      "source": [
        "#1 - Positional Arguments\n",
        "\n",
        "def simpleCalc(a,b):\n",
        "  result = a + b\n",
        "  return (result)\n",
        "\n",
        "print(f\"5 + 2 is {simpleCalc(5,2)}\")"
      ]
    },
    {
      "cell_type": "code",
      "source": [
        "#2 - variadic Arguments\n",
        "\n",
        "def simpleCalc2(a, *args):\n",
        "  result = a\n",
        "  for nums in args:\n",
        "    result = result + nums\n",
        "  return result\n",
        "\n",
        "print(f\"5 + 2 - 1 = {simpleCalc2(5,2,-1)}\")"
      ],
      "metadata": {
        "colab": {
          "base_uri": "https://localhost:8080/"
        },
        "id": "oTMnOXypi5pY",
        "outputId": "f11a3058-8ebd-4a40-f49b-7e375d2ad1fb"
      },
      "execution_count": null,
      "outputs": [
        {
          "output_type": "stream",
          "name": "stdout",
          "text": [
            "5 + 2 - 1 = 6\n"
          ]
        }
      ]
    },
    {
      "cell_type": "code",
      "source": [
        "#3 - Keword Arguments\n",
        "\n",
        "def printer(**kwargs):\n",
        "  for num in kwargs:\n",
        "    print(kwargs[num])\n",
        "\n",
        "printer(a='a',b='b',c='c',d='hello',e=64)"
      ],
      "metadata": {
        "colab": {
          "base_uri": "https://localhost:8080/"
        },
        "id": "2P4lRH65l0eQ",
        "outputId": "abafb457-feb5-4c81-aae6-e5137466d3bb"
      },
      "execution_count": null,
      "outputs": [
        {
          "output_type": "stream",
          "name": "stdout",
          "text": [
            "a\n",
            "b\n",
            "c\n",
            "hello\n",
            "64\n"
          ]
        }
      ]
    },
    {
      "cell_type": "code",
      "source": [
        "#4 - Any input\n",
        "\n",
        "def calc(num, *args, **kwargs):\n",
        "  result = num\n",
        "  if kwargs['operation'] == '-':\n",
        "    for x in args:\n",
        "      result = result - x\n",
        "  elif kwargs['operation'] == '+':\n",
        "    for x in args:\n",
        "      result = result + x\n",
        "  return result\n",
        "\n",
        "print(calc(1,5,2, operation='+'))\n",
        "print(calc(8,1,4, operation='-'))"
      ],
      "metadata": {
        "colab": {
          "base_uri": "https://localhost:8080/"
        },
        "id": "wIIEitwEnOId",
        "outputId": "db7cb363-85d3-4f22-a1b4-4c9bf88c6edc"
      },
      "execution_count": 37,
      "outputs": [
        {
          "output_type": "stream",
          "name": "stdout",
          "text": [
            "8\n",
            "3\n"
          ]
        }
      ]
    },
    {
      "cell_type": "code",
      "source": [
        "#5 - Global Variable\n",
        "\n",
        "number = 5\n",
        "def funct(a):\n",
        "  global number\n",
        "  print(f\"The number is {number}\")\n",
        "  print(f\"Subtracting {a} from it...\")\n",
        "  number = number - a\n",
        "  print(f\"The number is now {number}\")\n",
        "\n",
        "funct(3)"
      ],
      "metadata": {
        "colab": {
          "base_uri": "https://localhost:8080/"
        },
        "id": "RLuRATT21V-G",
        "outputId": "4b6a2e97-130f-4a25-9133-4ad61dd865ad"
      },
      "execution_count": 3,
      "outputs": [
        {
          "output_type": "stream",
          "name": "stdout",
          "text": [
            "The number is 5\n",
            "Subtracting 3 from it...\n",
            "The number is now 2\n"
          ]
        }
      ]
    },
    {
      "cell_type": "code",
      "source": [
        "#6 - Lambda\n",
        "\n",
        "words = ['cat', 'alien', 'apple']\n",
        "print(sorted(words, key=lambda word: sum(letters in 'aeiou' for letters in word)))"
      ],
      "metadata": {
        "colab": {
          "base_uri": "https://localhost:8080/"
        },
        "id": "fOaerpOY22VF",
        "outputId": "32fe8bf9-f705-4289-b002-6d5a9097f766"
      },
      "execution_count": 47,
      "outputs": [
        {
          "output_type": "stream",
          "name": "stdout",
          "text": [
            "['cat', 'apple', 'alien']\n"
          ]
        }
      ]
    },
    {
      "cell_type": "code",
      "source": [
        "#7 - Decorators\n",
        "\n",
        "def logger(func):\n",
        "    def log(*args, **kwargs):\n",
        "        result = func(*args, **kwargs)\n",
        "        file = open('logs.txt', 'a')\n",
        "        file.write(f\"Calling {func.__name__} with args: {args}, kwargs: {kwargs} \")\n",
        "        file.write(f\"\\n{func.__name__} returned: {result}\")\n",
        "        file.close()\n",
        "        return result\n",
        "    return log\n",
        "\n",
        "\n",
        "funct = logger(funct)\n",
        "\n",
        "funct(-3)\n",
        "\n",
        "#I have spent over an hour just trying to get this to work right.\n",
        "#I hope it still works when I submit it."
      ],
      "metadata": {
        "colab": {
          "base_uri": "https://localhost:8080/"
        },
        "id": "KbXuwfjR7WfJ",
        "outputId": "4947cf2a-2319-459f-dc8f-76b2823e3761"
      },
      "execution_count": 4,
      "outputs": [
        {
          "output_type": "stream",
          "name": "stdout",
          "text": [
            "The number is 2\n",
            "Subtracting -3 from it...\n",
            "The number is now 5\n"
          ]
        }
      ]
    },
    {
      "cell_type": "code",
      "source": [
        "#8 - Map, Filter, Reduce\n",
        "from functools import reduce\n",
        "\n",
        "nums = [5, 4, 8, 2, 10]\n",
        "\n",
        "result = list(map(lambda x: x*2, nums))\n",
        "print(f\"Map: {result}\")\n",
        "\n",
        "print(\"\\n\")\n",
        "\n",
        "def checker(numbers):\n",
        "  if (numbers % 10) == 0:\n",
        "    return True\n",
        "  else:\n",
        "    return False\n",
        "\n",
        "result2 = list(filter(checker, result))\n",
        "print(f\"Filter: {result2}\")\n",
        "\n",
        "print(\"\\n\")\n",
        "\n",
        "result3 = reduce(lambda x, y: x*y, nums)\n",
        "print(f\"Reduce: {result3}\")"
      ],
      "metadata": {
        "colab": {
          "base_uri": "https://localhost:8080/"
        },
        "id": "vI_59F7xOZk-",
        "outputId": "4a2386eb-5105-48cd-a1c4-b9f0ea9627e6"
      },
      "execution_count": 13,
      "outputs": [
        {
          "output_type": "stream",
          "name": "stdout",
          "text": [
            "Map: [10, 8, 16, 4, 20]\n",
            "\n",
            "\n",
            "Filter: [10, 20]\n",
            "\n",
            "\n",
            "Reduce: 3200\n"
          ]
        }
      ]
    },
    {
      "cell_type": "code",
      "source": [
        "#9 - exec()\n",
        "\n",
        "#I tried a bunch of different ways to try and get it to work, but I dont think\n",
        "#I'd be able to with how I was going about it, so I just wasted a lot of time.\n",
        "#But the basic idea I had was around the fact that if I had did:\n",
        "#exec('print(5+3-6/2)')\n",
        "#It'd do the math, but it wouldn't do the same if input, or otherwise if the\n",
        "#numbers were put in by a variable."
      ],
      "metadata": {
        "colab": {
          "base_uri": "https://localhost:8080/"
        },
        "id": "dufb49APOpw_",
        "outputId": "e756061f-f31b-45f2-c42b-784984f001b1"
      },
      "execution_count": 39,
      "outputs": [
        {
          "output_type": "stream",
          "name": "stdout",
          "text": [
            "19\n",
            "None\n"
          ]
        }
      ]
    }
  ]
}