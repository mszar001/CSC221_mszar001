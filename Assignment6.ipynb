{
  "nbformat": 4,
  "nbformat_minor": 0,
  "metadata": {
    "colab": {
      "provenance": [],
      "authorship_tag": "ABX9TyNjq87GZjpzDDXe7nV/YNE9",
      "include_colab_link": true
    },
    "kernelspec": {
      "name": "python3",
      "display_name": "Python 3"
    },
    "language_info": {
      "name": "python"
    }
  },
  "cells": [
    {
      "cell_type": "markdown",
      "metadata": {
        "id": "view-in-github",
        "colab_type": "text"
      },
      "source": [
        "<a href=\"https://colab.research.google.com/github/mszar001/CSC221_mszar001/blob/main/Assignment6.ipynb\" target=\"_parent\"><img src=\"https://colab.research.google.com/assets/colab-badge.svg\" alt=\"Open In Colab\"/></a>"
      ]
    },
    {
      "cell_type": "code",
      "execution_count": 1,
      "metadata": {
        "id": "HdMkb7ki4Yo3"
      },
      "outputs": [],
      "source": [
        "#Makenna Szary\n",
        "#Assignment 6"
      ]
    },
    {
      "cell_type": "code",
      "source": [
        "#cars.py\n",
        "\n",
        "cars = ['audi', 'bmw', 'subaru', 'toyota']\n",
        "for car in cars:\n",
        "  if car == 'bmw':\n",
        "    print(car.upper())\n",
        "  else:\n",
        "    print(car.title())\n",
        "\n",
        "car = 'bmw'\n",
        "print(car == 'bmw')\n",
        "print(car == 'audi')\n",
        "\n",
        "#toppings.py\n",
        "\n",
        "requested_topping = 'mushrooms'\n",
        "if(requested_topping != 'anchovies'):\n",
        "  print(\"\\nHold the Anchovies!\")\n",
        "\n",
        "#magic_number.py\n",
        "\n",
        "answer = 17\n",
        "if (answer != 42):\n",
        "  print(\"That is not the correct answer, please try again\\n\")\n",
        "\n",
        "#age.py ?\n",
        "\n",
        "age = 19\n",
        "print(age >= 21)\n",
        "print(age <= 21)\n",
        "\n",
        "age_0 = 19\n",
        "age_1 = 22\n",
        "print(age_0 >= 21 or age_1 >= 21)\n",
        "print(age_0 <= 21 and age_1 >= 21)\n",
        "print(\"\\n\")\n",
        "\n",
        "#banned_users.py\n",
        "\n",
        "banned_users = ['andrew', 'carolina', 'david']\n",
        "user = 'marie'\n",
        "if user not in banned_users:\n",
        "  print(f\"{user.title()}, you can post a response if you wish.\")"
      ],
      "metadata": {
        "colab": {
          "base_uri": "https://localhost:8080/"
        },
        "id": "vbHN-tVJKvVo",
        "outputId": "0820aea4-1489-4188-d851-d027abf2a881"
      },
      "execution_count": 17,
      "outputs": [
        {
          "output_type": "stream",
          "name": "stdout",
          "text": [
            "Audi\n",
            "BMW\n",
            "Subaru\n",
            "Toyota\n",
            "True\n",
            "False\n",
            "\n",
            "Hold the Anchovies!\n",
            "That is not the correct answer, please try again\n",
            "\n",
            "False\n",
            "True\n",
            "True\n",
            "True\n",
            "\n",
            "\n",
            "Marie, you can post a response if you wish.\n"
          ]
        }
      ]
    },
    {
      "cell_type": "code",
      "source": [
        "#5-1 'Conditional Tests'\n",
        "\n",
        "car = 'subaru'\n",
        "print(\"Is car == 'subaru'? I predict True.\")\n",
        "print(car == 'subaru')\n",
        "\n",
        "print(\"\\nIs car == 'audi'? I predict False.\")\n",
        "print(car == 'audi')\n",
        "\n",
        "#okay doing 10 of these feels excessive, I will do a couple more sets though.\n",
        "pet = 'dog'\n",
        "print(\"\\nIs pet == 'dog'? I predict True.\")\n",
        "print(pet == 'dog')\n",
        "print(\"\\nIs pet == 'cat'? I predict False.\")\n",
        "print(pet == 'cat')\n",
        "\n",
        "color = 'blue'\n",
        "print(\"\\nIs color == 'blue'? I predict True.\")\n",
        "print(color == 'blue')\n",
        "print(\"\\nIs color == 'red'? I predict False.\")\n",
        "print(color == 'red')\n",
        "\n",
        "#Okay I think that's enough, this is really repetitive...\n",
        "print(\"\\n\")\n",
        "#5-2 'More Conditional Tests'\n",
        "#Oh, okay.\n",
        "\n",
        "#1 and 2\n",
        "pet = 'Dog'\n",
        "if pet == 'Dog':\n",
        "  print(f\"Bark says the {pet.lower()}\")\n",
        "pet = 'Cat'\n",
        "if pet != 'Dog':\n",
        "  print(\"..No bark, I guess\")\n",
        "#3 and 4\n",
        "num = 5\n",
        "if num >= 1 and num <= 10:\n",
        "  print(\"Num is somewhere between 1 and 10...\")\n",
        "if num >= 1 or num == 10:\n",
        "  print(\"Num is positive...\")\n",
        "#5\n",
        "list_1 = ['meow', 'woof']\n",
        "if 'meow' in list_1:\n",
        "  print(\"Cat\")\n",
        "if 'bark' not in list_1:\n",
        "  print(\"Trees have barks, but dogs do too.. I guess.\")"
      ],
      "metadata": {
        "colab": {
          "base_uri": "https://localhost:8080/"
        },
        "id": "X2zBEtyzoT5g",
        "outputId": "f8b52467-a54b-45f5-d1dd-0daa1f828925"
      },
      "execution_count": 30,
      "outputs": [
        {
          "output_type": "stream",
          "name": "stdout",
          "text": [
            "Is car == 'subaru'? I predict True.\n",
            "True\n",
            "\n",
            "Is car == 'audi'? I predict False.\n",
            "False\n",
            "\n",
            "Is pet == 'dog'? I predict True.\n",
            "True\n",
            "\n",
            "Is pet == 'cat'? I predict False.\n",
            "False\n",
            "\n",
            "Is color == 'blue'? I predict True.\n",
            "True\n",
            "\n",
            "Is color == 'red'? I predict False.\n",
            "False\n",
            "\n",
            "\n",
            "Bark says the dog\n",
            "..No bark, I guess\n",
            "Num is somewhere between 1 and 10...\n",
            "Num is positive...\n",
            "Cat\n",
            "Trees have barks, but dogs do too.. I guess.\n"
          ]
        }
      ]
    },
    {
      "cell_type": "code",
      "source": [
        "#voting.py\n",
        "\n",
        "age = 17\n",
        "if age >= 18:\n",
        "  print(\"You are old enough to vote!\")\n",
        "  print(\"Have you registered to vote yet?\")\n",
        "else:\n",
        "  print(\"Sorry, you're too young to vote.\")\n",
        "  print(\"Please register to vote as soon as you turn 18\")\n",
        "\n",
        "#amusement_park.py\n",
        "\n",
        "age = 12\n",
        "if (age < 4):\n",
        "  price = 0\n",
        "elif(age < 18):\n",
        "  price = 25\n",
        "elif(age < 65):\n",
        "  price = 40\n",
        "else:\n",
        "  price = 20\n",
        "print(f\"\\nYour admission cost is ${price}\\n\")\n",
        "\n",
        "#toppings.py\n",
        "requested_toppings = ['mushrooms', 'extra cheese']\n",
        "\n",
        "if 'mushrooms' in requested_toppings:\n",
        "  print(\"Adding Mushrooms\")\n",
        "if 'pepperoni' in requested_toppings:\n",
        "  print(\"Adding Pepperoni\")\n",
        "if 'extra cheese' in requested_toppings:\n",
        "  print(\"Adding Extra Cheese\")\n",
        "print(\"Finished making your pizza!\\n\")\n"
      ],
      "metadata": {
        "colab": {
          "base_uri": "https://localhost:8080/"
        },
        "id": "B7FJe3OkuSsa",
        "outputId": "1473c26d-220d-481b-c0a1-0f538e4fe1d0"
      },
      "execution_count": 34,
      "outputs": [
        {
          "output_type": "stream",
          "name": "stdout",
          "text": [
            "Sorry, you're too young to vote.\n",
            "Please register to vote as soon as you turn 18\n",
            "\n",
            "Your admission cost is $25\n",
            "\n",
            "Adding Mushrooms\n",
            "Adding Extra Cheese\n",
            "Finished making your pizza!\n",
            "\n"
          ]
        }
      ]
    },
    {
      "cell_type": "code",
      "source": [
        "#5-3 'Alien Colors #1'\n",
        "\n",
        "alien_color = 'yellow'\n",
        "if alien_color == 'green':\n",
        "  print(\"You've earned 5 points!\")\n",
        "alien_color = 'green'\n",
        "if alien_color == 'green':\n",
        "  print(\"You've earned 5 points!\")\n",
        "\n",
        "print(\"\\n\")\n",
        "#5-6 'Stage of Life'\n",
        "age = 19\n",
        "if(age < 2):\n",
        "  print(\"That is a baby\")\n",
        "elif(age < 4):\n",
        "  print(\"That is a toddler\")\n",
        "elif(age < 13):\n",
        "  print(\"That is a kid\")\n",
        "elif(age < 20):\n",
        "  print(\"That is a teenager\")\n",
        "elif(age < 65):\n",
        "  print(\"That is an adult\")\n",
        "else:\n",
        "  print(\"That is an elder\")"
      ],
      "metadata": {
        "colab": {
          "base_uri": "https://localhost:8080/"
        },
        "id": "JprlTjlCu6T2",
        "outputId": "9e2860f2-c017-413d-8ce8-d5d1d5f1aed0"
      },
      "execution_count": 37,
      "outputs": [
        {
          "output_type": "stream",
          "name": "stdout",
          "text": [
            "You've earned 5 points!\n",
            "\n",
            "\n",
            "That is a teenager\n"
          ]
        }
      ]
    },
    {
      "cell_type": "code",
      "source": [
        "#toppings.py\n",
        "#For the third time haha!\n",
        "\n",
        "available_topping = ['mushrooms', 'olives', 'green peppers',\n",
        "                     'pepperoni','pineapple', 'extra cheese']\n",
        "requested_toppings = ['mushrooms', 'french fries', 'extra cheese']\n",
        "#requested_toppings = []\n",
        "if requested_toppings:\n",
        "  for requested_toppings in requested_toppings:\n",
        "    if(requested_toppings not in available_topping):\n",
        "      print (f\"Sorry, we don't have any {requested_toppings}.\")\n",
        "    else:\n",
        "      print(f\"Adding {requested_toppings}.\")\n",
        "  print(\"Finished making your pizza!\")\n",
        "else:\n",
        "  print(\"Are you sure you want a plain pizza?\")"
      ],
      "metadata": {
        "colab": {
          "base_uri": "https://localhost:8080/"
        },
        "id": "X3bWb3w_ycr0",
        "outputId": "df010fd9-8778-4c86-90ff-ae2f39cf06e1"
      },
      "execution_count": 45,
      "outputs": [
        {
          "output_type": "stream",
          "name": "stdout",
          "text": [
            "Adding mushrooms.\n",
            "Sorry, we don't have any french fries.\n",
            "Adding extra cheese.\n",
            "Finished making your pizza!\n"
          ]
        }
      ]
    },
    {
      "cell_type": "code",
      "source": [
        "#5-12 'Styling if Statement'\n",
        "#Consider it done.\n",
        "\n",
        "#5-13 'Your Ideas'\n",
        "#Consider you're hosting an event, with different tickets for different prices.\n",
        "#Sorry, not feeling too creative right now..\n",
        "\n",
        "cost = 0\n",
        "num = 0\n",
        "print(\"Child = $5, Adult = $15, Senior(65+) = $10, Premium = +$5\")\n",
        "people = input(\"How many people? \")\n",
        "people = int(people)\n",
        "while num < people:\n",
        "  ticket = input(f\"What kind of Ticket for person {num + 1}? \")\n",
        "  if(ticket == 'child'):\n",
        "    cost += 5\n",
        "    print(\"One child ticket added!\")\n",
        "  elif(ticket == 'adult'):\n",
        "    cost += 15\n",
        "    print(\"One adult ticket added!\")\n",
        "  elif(ticket == 'senior'):\n",
        "    cost += 10\n",
        "    print(\"One senior ticket added!\")\n",
        "  answer = input(\"Premium? Y/N \")\n",
        "  if (answer == 'Y' or answer == 'y'):\n",
        "    cost += 5\n",
        "    print(\"Premium added!\")\n",
        "  else:\n",
        "    print(\"Premium not added!\")\n",
        "  num = num + 1\n",
        "print(f\"The total cost is: ${cost}\")\n",
        "\n"
      ],
      "metadata": {
        "colab": {
          "base_uri": "https://localhost:8080/"
        },
        "id": "hYRmfhn50qH-",
        "outputId": "7769384f-bc17-4018-a50a-b286b8f7cdc9"
      },
      "execution_count": 53,
      "outputs": [
        {
          "output_type": "stream",
          "name": "stdout",
          "text": [
            "Child = $5, Adult = $15, Senior(65+) = $10, Premium = +$5\n",
            "How many people? 2\n",
            "What kind of Ticket for person 1?child\n",
            "One child ticket added!\n",
            "Premium? Y/NY\n",
            "Premium added!\n",
            "What kind of Ticket for person 2?adult\n",
            "One adult ticket added!\n",
            "Premium? Y/NN\n",
            "Premium not added!\n",
            "The total cost is: $25\n"
          ]
        }
      ]
    }
  ]
}