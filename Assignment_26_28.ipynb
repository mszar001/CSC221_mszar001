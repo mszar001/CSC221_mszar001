{
  "nbformat": 4,
  "nbformat_minor": 0,
  "metadata": {
    "colab": {
      "provenance": [],
      "authorship_tag": "ABX9TyNNJcBgXnDyatic4O6ta1rO",
      "include_colab_link": true
    },
    "kernelspec": {
      "name": "python3",
      "display_name": "Python 3"
    },
    "language_info": {
      "name": "python"
    }
  },
  "cells": [
    {
      "cell_type": "markdown",
      "metadata": {
        "id": "view-in-github",
        "colab_type": "text"
      },
      "source": [
        "<a href=\"https://colab.research.google.com/github/mszar001/CSC221_mszar001/blob/main/Assignment_26_28.ipynb\" target=\"_parent\"><img src=\"https://colab.research.google.com/assets/colab-badge.svg\" alt=\"Open In Colab\"/></a>"
      ]
    },
    {
      "cell_type": "markdown",
      "source": [
        "Makenna Szary -\n",
        "CSC221A - Intro to Programming"
      ],
      "metadata": {
        "id": "KDSe2rTHOSWf"
      }
    },
    {
      "cell_type": "code",
      "execution_count": 7,
      "metadata": {
        "colab": {
          "base_uri": "https://localhost:8080/"
        },
        "id": "ebhBPkXpONMQ",
        "outputId": "d3b973b2-3dba-445b-ff30-b8a8f0e10f90"
      },
      "outputs": [
        {
          "output_type": "stream",
          "name": "stdout",
          "text": [
            "An example of an int, or integer would be 5\n",
            "An example of a float would be 1.6\n",
            "An example of a string would be the phrase Hello world\n"
          ]
        }
      ],
      "source": [
        "#1 - Int Float String\n",
        "\n",
        "integer = 5\n",
        "float_num = 1.6\n",
        "string = \"Hello world\"\n",
        "\n",
        "print(f\"An example of an int, or integer would be {integer}\")\n",
        "print(f\"An example of a float would be {float_num}\")\n",
        "print(f\"An example of a string would be the phrase {string}\")"
      ]
    },
    {
      "cell_type": "code",
      "source": [
        "#2 - f string\n",
        "\n",
        "print(\"I used one last time, but I can show one again.\")\n",
        "print(f\"Such as it can be used to put a string like '{string}' in here.\")"
      ],
      "metadata": {
        "colab": {
          "base_uri": "https://localhost:8080/"
        },
        "id": "KiSeD6LWPCI9",
        "outputId": "183360d1-244e-43b1-9d70-7bbadc966ca1"
      },
      "execution_count": 4,
      "outputs": [
        {
          "output_type": "stream",
          "name": "stdout",
          "text": [
            "I used one last time, but I can show one again.\n",
            "Such as it can be used to put a string like 'Hello World' in here.\n"
          ]
        }
      ]
    },
    {
      "cell_type": "code",
      "source": [
        "#3 - String Class\n",
        "\n",
        "print(f\"Original string: {string}\")\n",
        "print(f\"Lowercase string: {string.lower()}\")\n",
        "print(f\"Capitalized string: {string.upper()}\")\n",
        "print(f\"First Letter Capitalized string: {string.title()}\")"
      ],
      "metadata": {
        "colab": {
          "base_uri": "https://localhost:8080/"
        },
        "id": "3kQcXIldPUg8",
        "outputId": "c707fb61-821d-4176-b1a6-74103e3628fd"
      },
      "execution_count": 9,
      "outputs": [
        {
          "output_type": "stream",
          "name": "stdout",
          "text": [
            "Original string: Hello world\n",
            "Lowercase string: hello world\n",
            "Capitalized string: HELLO WORLD\n",
            "First Letter Capitalized string: Hello World\n"
          ]
        }
      ]
    },
    {
      "cell_type": "code",
      "source": [
        "#4 - Lists\n",
        "small_list = [1, 5, 7, 2, 0, 6]\n",
        "for numbers in small_list:\n",
        "  print(numbers)"
      ],
      "metadata": {
        "colab": {
          "base_uri": "https://localhost:8080/"
        },
        "id": "-LIqBvhrREjx",
        "outputId": "afafee32-b15f-440d-a56a-b09093d60cf8"
      },
      "execution_count": 29,
      "outputs": [
        {
          "output_type": "stream",
          "name": "stdout",
          "text": [
            "1\n",
            "5\n",
            "7\n",
            "2\n",
            "0\n",
            "6\n"
          ]
        }
      ]
    },
    {
      "cell_type": "code",
      "source": [
        "#5 - List of Lists\n",
        "bigger_list = [1,5,small_list, [2,8,4]]\n",
        "for items in bigger_list:\n",
        "  print(items)\n",
        "\n",
        "print(f\"One variable from a list in the list is: {bigger_list[2][2]}\")"
      ],
      "metadata": {
        "colab": {
          "base_uri": "https://localhost:8080/"
        },
        "id": "mzJxWrPgRxER",
        "outputId": "1c86e306-52fc-46ea-c4b0-fe85928b55b2"
      },
      "execution_count": 27,
      "outputs": [
        {
          "output_type": "stream",
          "name": "stdout",
          "text": [
            "1\n",
            "5\n",
            "[1, 5, 7, 2, 0, 6]\n",
            "[2, 8, 4]\n",
            "One variable from a list in the list is: 7\n"
          ]
        }
      ]
    },
    {
      "cell_type": "code",
      "source": [
        "#6 - Sorted List\n",
        "\n",
        "print(f\"Normal list: {small_list}\")\n",
        "print(f\"Sorted list: {sorted(small_list)}\")\n",
        "print(f\"Unchanged list: {small_list}\")"
      ],
      "metadata": {
        "colab": {
          "base_uri": "https://localhost:8080/"
        },
        "id": "VW24NLV0Uhcu",
        "outputId": "7476eed4-0d08-40a5-84c8-17d5576fc1f9"
      },
      "execution_count": 34,
      "outputs": [
        {
          "output_type": "stream",
          "name": "stdout",
          "text": [
            "Normal list: [1, 5, 7, 2, 0, 6]\n",
            "Sorted list: [0, 1, 2, 5, 6, 7]\n",
            "Unchanged list: [1, 5, 7, 2, 0, 6]\n"
          ]
        }
      ]
    },
    {
      "cell_type": "code",
      "source": [
        "#7 - For and Range\n",
        "\n",
        "for num in range(8):\n",
        "  print(num)"
      ],
      "metadata": {
        "colab": {
          "base_uri": "https://localhost:8080/"
        },
        "id": "G7Rs_kqrWOLD",
        "outputId": "529ed650-d84d-471a-fd27-5648f8ccf0cb"
      },
      "execution_count": 38,
      "outputs": [
        {
          "output_type": "stream",
          "name": "stdout",
          "text": [
            "0\n",
            "1\n",
            "2\n",
            "3\n",
            "4\n",
            "5\n",
            "6\n",
            "7\n"
          ]
        }
      ]
    },
    {
      "cell_type": "code",
      "source": [
        "#8 - Squares not divisible by 7\n",
        "\n",
        "for num in range(1000):\n",
        "  if ((num*num) % 7) == 0:\n",
        "    continue\n",
        "  else:\n",
        "    print(num*num)"
      ],
      "metadata": {
        "id": "IApOCqfWWdcj"
      },
      "execution_count": null,
      "outputs": []
    },
    {
      "cell_type": "code",
      "source": [
        "#9 - Sieve of Eratosthenes\n",
        "\n",
        "def SieveOfEratosthenes(num):\n",
        "  primes = []\n",
        "  prime = [True for i in range(num+1)]\n",
        "  p = 2\n",
        "  while(p*p <= num):\n",
        "    if (prime[p] == True):\n",
        "      for i in range(p*p,num+1,p):\n",
        "        prime[i] = False\n",
        "    p += 1\n",
        "\n",
        "  for p in range(2,num+1):\n",
        "    if prime[p]:\n",
        "      primes.append(p)\n",
        "  return primes\n",
        "\n",
        "print(SieveOfEratosthenes(1000))\n",
        "print"
      ],
      "metadata": {
        "colab": {
          "base_uri": "https://localhost:8080/"
        },
        "id": "VBDxPQ4Nh3D1",
        "outputId": "50e62d44-4b1d-4d11-9fd1-e1f36e5ef630"
      },
      "execution_count": 49,
      "outputs": [
        {
          "output_type": "stream",
          "name": "stdout",
          "text": [
            "[2, 3, 5, 7, 11, 13, 17, 19, 23, 29, 31, 37, 41, 43, 47, 53, 59, 61, 67, 71, 73, 79, 83, 89, 97, 101, 103, 107, 109, 113, 127, 131, 137, 139, 149, 151, 157, 163, 167, 173, 179, 181, 191, 193, 197, 199, 211, 223, 227, 229, 233, 239, 241, 251, 257, 263, 269, 271, 277, 281, 283, 293, 307, 311, 313, 317, 331, 337, 347, 349, 353, 359, 367, 373, 379, 383, 389, 397, 401, 409, 419, 421, 431, 433, 439, 443, 449, 457, 461, 463, 467, 479, 487, 491, 499, 503, 509, 521, 523, 541, 547, 557, 563, 569, 571, 577, 587, 593, 599, 601, 607, 613, 617, 619, 631, 641, 643, 647, 653, 659, 661, 673, 677, 683, 691, 701, 709, 719, 727, 733, 739, 743, 751, 757, 761, 769, 773, 787, 797, 809, 811, 821, 823, 827, 829, 839, 853, 857, 859, 863, 877, 881, 883, 887, 907, 911, 919, 929, 937, 941, 947, 953, 967, 971, 977, 983, 991, 997]\n"
          ]
        }
      ]
    },
    {
      "cell_type": "code",
      "source": [
        "#10 - Generator (Not exactly how you showed it, but I think it works the same?)\n",
        "\n",
        "def my_prime_generator(num):\n",
        "  primes = []\n",
        "  Sieve = list(SieveOfEratosthenes(10000))\n",
        "  for nums in range(num):\n",
        "    primes.append(Sieve[nums])\n",
        "  return primes\n",
        "\n",
        "my_prime_generator(200)"
      ],
      "metadata": {
        "id": "DMRlxSsBinG-"
      },
      "execution_count": null,
      "outputs": []
    },
    {
      "cell_type": "code",
      "source": [
        "#11 - Random Integers\n",
        "import random\n",
        "\n",
        "randomNums = []\n",
        "for num in range(1000):\n",
        "  randomNums.append(random.randint(0,1000))\n",
        "\n",
        "avgOfRandomNums = (sum(randomNums))/(len(randomNums))\n",
        "\n",
        "print(f\"original list: {randomNums}\")\n",
        "print(f\"Sum of list: {sum(randomNums)}\")\n",
        "print(f\"Smallest in list: {min(randomNums)}\")\n",
        "print(f\"largest in list: {max(randomNums)}\")\n",
        "print(f\"The average in list: {avgOfRandomNums}\")"
      ],
      "metadata": {
        "colab": {
          "base_uri": "https://localhost:8080/"
        },
        "id": "FajTEvJdipyW",
        "outputId": "bcb55246-921c-41c2-a536-79128da9e3b1"
      },
      "execution_count": 68,
      "outputs": [
        {
          "output_type": "stream",
          "name": "stdout",
          "text": [
            "original list: [233, 487, 316, 145, 637, 329, 403, 470, 749, 878, 590, 971, 290, 728, 76, 127, 624, 248, 195, 440, 971, 499, 543, 410, 985, 106, 817, 65, 465, 777, 705, 543, 804, 520, 782, 77, 569, 260, 836, 209, 214, 792, 199, 670, 921, 518, 160, 680, 35, 778, 244, 648, 683, 203, 493, 947, 907, 489, 851, 641, 627, 933, 131, 330, 293, 118, 661, 75, 93, 648, 438, 546, 265, 138, 86, 857, 130, 899, 949, 681, 615, 572, 870, 409, 389, 927, 120, 956, 850, 520, 24, 39, 294, 347, 93, 942, 362, 989, 376, 513, 654, 426, 801, 590, 818, 78, 893, 358, 462, 653, 997, 387, 370, 485, 293, 220, 192, 44, 855, 710, 721, 179, 841, 968, 543, 398, 187, 517, 236, 109, 584, 488, 257, 460, 911, 691, 782, 292, 871, 999, 107, 962, 389, 873, 863, 811, 991, 645, 213, 250, 758, 799, 950, 261, 656, 933, 463, 996, 127, 208, 363, 7, 663, 938, 328, 874, 184, 212, 922, 596, 103, 686, 794, 638, 827, 449, 128, 159, 812, 61, 836, 755, 759, 525, 758, 721, 403, 551, 953, 260, 83, 161, 658, 514, 587, 528, 682, 98, 220, 291, 0, 427, 665, 877, 189, 129, 130, 402, 917, 602, 371, 889, 341, 700, 770, 415, 328, 930, 159, 544, 362, 537, 39, 510, 546, 779, 727, 821, 90, 977, 608, 117, 332, 759, 207, 791, 842, 903, 678, 266, 304, 786, 616, 367, 150, 16, 491, 930, 963, 454, 385, 185, 690, 285, 106, 476, 773, 62, 495, 704, 388, 489, 488, 904, 794, 27, 637, 636, 212, 474, 189, 725, 686, 989, 643, 583, 48, 313, 833, 772, 422, 24, 974, 907, 601, 556, 426, 615, 293, 962, 102, 544, 494, 509, 296, 749, 837, 633, 230, 905, 704, 164, 875, 103, 116, 796, 203, 973, 411, 33, 783, 963, 315, 535, 615, 581, 184, 120, 288, 357, 30, 203, 798, 472, 31, 956, 640, 357, 722, 173, 789, 362, 145, 673, 237, 945, 796, 784, 922, 191, 841, 79, 670, 860, 598, 145, 524, 595, 771, 905, 112, 919, 903, 130, 320, 18, 766, 471, 374, 578, 197, 924, 410, 685, 951, 514, 38, 769, 395, 258, 163, 982, 367, 225, 407, 819, 884, 316, 119, 841, 604, 167, 677, 704, 473, 77, 540, 794, 79, 966, 357, 642, 588, 809, 718, 852, 254, 281, 341, 62, 138, 596, 759, 22, 808, 522, 178, 621, 623, 712, 911, 630, 351, 97, 213, 460, 99, 124, 733, 158, 22, 139, 43, 386, 446, 265, 903, 891, 36, 675, 575, 975, 149, 552, 256, 385, 128, 460, 323, 120, 82, 33, 729, 348, 319, 476, 320, 399, 710, 541, 23, 485, 460, 491, 310, 535, 381, 977, 505, 131, 737, 267, 547, 322, 724, 708, 755, 873, 529, 354, 815, 682, 244, 693, 879, 361, 12, 467, 312, 504, 352, 682, 157, 925, 782, 805, 599, 896, 827, 233, 331, 450, 424, 740, 650, 702, 218, 588, 37, 257, 769, 995, 502, 136, 235, 739, 329, 695, 529, 677, 698, 807, 122, 259, 413, 984, 504, 397, 540, 122, 470, 592, 476, 484, 316, 835, 496, 623, 769, 914, 390, 30, 545, 930, 85, 752, 232, 897, 311, 944, 530, 219, 955, 345, 48, 384, 27, 42, 652, 974, 519, 202, 708, 595, 526, 341, 762, 222, 661, 836, 351, 105, 978, 189, 96, 688, 909, 732, 182, 5, 286, 846, 618, 170, 609, 385, 576, 939, 183, 921, 24, 301, 33, 497, 206, 464, 339, 279, 477, 990, 844, 909, 452, 119, 294, 210, 950, 173, 34, 125, 169, 326, 882, 751, 205, 683, 697, 251, 689, 812, 756, 386, 532, 196, 715, 439, 415, 782, 822, 600, 861, 717, 77, 489, 61, 870, 221, 541, 912, 499, 118, 608, 28, 395, 9, 344, 170, 6, 631, 346, 754, 237, 443, 215, 58, 313, 133, 79, 918, 528, 714, 347, 405, 148, 228, 599, 614, 352, 265, 904, 246, 295, 520, 401, 27, 17, 616, 118, 873, 573, 736, 47, 939, 611, 613, 736, 449, 37, 226, 701, 640, 181, 314, 935, 386, 395, 849, 62, 261, 744, 902, 268, 386, 576, 362, 959, 232, 118, 381, 966, 75, 981, 473, 712, 747, 347, 561, 834, 337, 831, 481, 713, 696, 770, 994, 597, 124, 37, 312, 225, 175, 935, 13, 713, 65, 710, 982, 738, 881, 792, 718, 347, 99, 187, 647, 293, 291, 293, 557, 253, 101, 248, 2, 28, 105, 915, 638, 392, 399, 91, 916, 590, 844, 638, 122, 248, 961, 631, 342, 851, 224, 6, 619, 628, 904, 135, 140, 835, 241, 525, 140, 170, 843, 471, 922, 439, 683, 924, 317, 406, 848, 52, 341, 415, 516, 513, 572, 893, 803, 278, 173, 666, 142, 439, 478, 461, 59, 212, 313, 730, 268, 423, 176, 603, 322, 519, 401, 301, 615, 624, 40, 733, 532, 539, 536, 349, 838, 176, 154, 388, 897, 441, 427, 473, 251, 735, 943, 170, 531, 761, 199, 833, 801, 95, 937, 495, 47, 42, 943, 131, 434, 455, 732, 291, 583, 961, 532, 311, 567, 76, 622, 168, 620, 560, 676, 283, 520, 872, 825, 715, 696, 375, 693, 302, 227, 926, 955, 354, 908, 414, 827, 697, 401, 821, 412, 146, 551, 846, 699, 152, 461, 799, 583, 504, 45, 186, 24, 1000, 36, 142, 711, 834, 285, 160, 383, 158, 201, 390, 533, 474, 391, 902, 48, 945, 130, 918, 736, 771, 358, 215, 842, 249, 7, 595, 983, 678, 760, 817, 510, 510, 345, 377, 650, 98, 707, 157, 564, 669, 193, 321, 982, 678, 831, 600, 709, 253, 57, 775, 642, 860, 915, 753, 904, 401, 836, 881, 241, 428, 201, 799, 5, 489, 161, 573, 296, 16, 825, 406, 420, 947, 300, 245, 300, 451, 79, 706, 600, 58, 331, 292, 584, 414, 418, 783, 984, 0, 974, 938, 953, 721, 392, 125, 501, 798, 936, 70, 758, 749, 735, 515, 327, 175, 423, 359, 741, 0, 171, 65, 528, 277]\n",
            "Sum of list: 494419\n",
            "Smallest in list: 0\n",
            "largest in list: 1000\n",
            "The average in list: 494.419\n"
          ]
        }
      ]
    },
    {
      "cell_type": "code",
      "source": [
        "#12 - if elif else\n",
        "\n",
        "def funct(num):\n",
        "  if(num < 5):\n",
        "    print(f\"{num} is less than 5\")\n",
        "  elif(num < 50):\n",
        "    print(f\"{num} is between 5 and 50\")\n",
        "  else:\n",
        "    print(f\"{num} is 50 or higher\")\n",
        "\n",
        "funct(3)\n",
        "funct(17)\n",
        "funct(83)\n"
      ],
      "metadata": {
        "colab": {
          "base_uri": "https://localhost:8080/"
        },
        "id": "LyJr2oKRsH5t",
        "outputId": "a0068bef-7ba2-4631-f831-df7c4d640028"
      },
      "execution_count": 70,
      "outputs": [
        {
          "output_type": "stream",
          "name": "stdout",
          "text": [
            "3 is less than 5\n",
            "17 is between 5 and 50\n",
            "83 is 50 or higher\n"
          ]
        }
      ]
    },
    {
      "cell_type": "code",
      "source": [
        "#13 - PEP-8\n",
        "\n",
        "print(\"1. Truly, the thing that tends to surprise me most is how informal PEP-8 is.\")\n",
        "print(\"2. PEP-8 says four spaces makes an indentation while we tend to only use 2 here\")\n",
        "print(\"Also, just the general preference of spaces versus tabs.\")\n",
        "print(\"3. How specific so many of these pieces are..\")\n",
        "print(\"And how much I probably don't follow PEP-8 is another surprise I guess.\")"
      ],
      "metadata": {
        "colab": {
          "base_uri": "https://localhost:8080/"
        },
        "id": "6WgQLX9rs-cK",
        "outputId": "3efb284f-2772-48a7-eec6-7518d564989c"
      },
      "execution_count": 71,
      "outputs": [
        {
          "output_type": "stream",
          "name": "stdout",
          "text": [
            "1. Truly, the thing that tends to surprise me most is how informal PEP-8 is.\n",
            "2. PEP-8 says four spaces makes an indentation while we tend to only use 2 here\n",
            "Also, just the general preference of spaces versus tabs.\n",
            "3. How specific so many of these pieces are..\n",
            "And how much I probably don't follow PEP-8 is another surprise I guess.\n"
          ]
        }
      ]
    },
    {
      "cell_type": "code",
      "source": [
        "#14 - File\n",
        "%%file testfile.txt\n",
        "Amy, cat\n",
        "Fred, dog\n",
        "Hunter, dog\n",
        "Peena, parakeet\n",
        "Rover, dog"
      ],
      "metadata": {
        "colab": {
          "base_uri": "https://localhost:8080/"
        },
        "id": "geKwJGAn2iOR",
        "outputId": "32ed4dfc-be36-4a3a-e781-7682b09d8228"
      },
      "execution_count": 76,
      "outputs": [
        {
          "output_type": "stream",
          "name": "stdout",
          "text": [
            "Overwriting testfile.txt\n"
          ]
        }
      ]
    },
    {
      "cell_type": "code",
      "source": [
        "#15 - File pt2\n",
        "\n",
        "with open('testfile.txt', 'r') as file1:\n",
        "    lines = file1.readlines()\n",
        "    pets = {}\n",
        "    for line in lines:\n",
        "        key, value = line.strip().split(',')\n",
        "        pets[key] = value\n",
        "\n",
        "print(pets['Amy'])\n",
        "print(pets['Rover'])\n",
        "print(pets['Peena'])"
      ],
      "metadata": {
        "colab": {
          "base_uri": "https://localhost:8080/"
        },
        "id": "3IJ94k3e23SX",
        "outputId": "aa1bf25e-b5ab-4a1b-d531-a97cd1d3e022"
      },
      "execution_count": 81,
      "outputs": [
        {
          "output_type": "stream",
          "name": "stdout",
          "text": [
            " cat\n",
            " dog\n",
            " parakeet\n"
          ]
        }
      ]
    },
    {
      "cell_type": "code",
      "source": [
        "#16 - Sets\n",
        "\n",
        "listofPets = []\n",
        "for pet in pets:\n",
        "  listofPets.append(pets[pet])\n",
        "\n",
        "typesofPets = set((listofPets))\n",
        "print(typesofPets)"
      ],
      "metadata": {
        "colab": {
          "base_uri": "https://localhost:8080/"
        },
        "id": "xkiw4Aok5GUt",
        "outputId": "2f3fb5f3-5d70-4706-d98e-4a12fd96fa74"
      },
      "execution_count": 85,
      "outputs": [
        {
          "output_type": "stream",
          "name": "stdout",
          "text": [
            "{' cat', ' dog', ' parakeet'}\n"
          ]
        }
      ]
    },
    {
      "cell_type": "code",
      "source": [
        "#17 - While\n",
        "\n",
        "num = 80\n",
        "while(num >= 16):\n",
        "  print(num)\n",
        "  num = num - 8"
      ],
      "metadata": {
        "colab": {
          "base_uri": "https://localhost:8080/"
        },
        "id": "cNKJkWBW6LrE",
        "outputId": "339beac9-3fdf-4ecf-a1e6-1bc78a6bb3a0"
      },
      "execution_count": 87,
      "outputs": [
        {
          "output_type": "stream",
          "name": "stdout",
          "text": [
            "80\n",
            "72\n",
            "64\n",
            "56\n",
            "48\n",
            "40\n",
            "32\n",
            "24\n",
            "16\n"
          ]
        }
      ]
    },
    {
      "cell_type": "code",
      "source": [
        "#18 - Tuple\n",
        "\n",
        "def MinMaxSum(one, two, three):\n",
        "  nums = [one, two, three]\n",
        "  lowest = min(nums)\n",
        "  highest = max(nums)\n",
        "  added = sum(nums)\n",
        "  result = (lowest, highest, added)\n",
        "  return result\n",
        "\n",
        "print(MinMaxSum(5, 18, 2))\n"
      ],
      "metadata": {
        "colab": {
          "base_uri": "https://localhost:8080/"
        },
        "id": "L3IvT3rW6rSM",
        "outputId": "bda8c0a2-8bf3-4285-89a5-c52695a9e6a7"
      },
      "execution_count": 90,
      "outputs": [
        {
          "output_type": "stream",
          "name": "stdout",
          "text": [
            "(2, 18, 25)\n"
          ]
        }
      ]
    },
    {
      "cell_type": "code",
      "source": [
        "#19 - MinMaxSum but any number\n",
        "\n",
        "def MinMaxSum2(*args):\n",
        "  nums = []\n",
        "  for number in args:\n",
        "    nums.append(number)\n",
        "  lowest = min(nums)\n",
        "  highest = max(nums)\n",
        "  added = sum(nums)\n",
        "  result = (lowest, highest, added)\n",
        "  return result\n",
        "\n",
        "print(MinMaxSum2(5,2))\n",
        "print(MinMaxSum2(7, 1, 19, 12, 5))"
      ],
      "metadata": {
        "colab": {
          "base_uri": "https://localhost:8080/"
        },
        "id": "EG2A0MMO9F7p",
        "outputId": "0d5e200c-f32e-40dd-cee3-333c206ef857"
      },
      "execution_count": 121,
      "outputs": [
        {
          "output_type": "stream",
          "name": "stdout",
          "text": [
            "(2, 5, 7)\n",
            "(1, 19, 44)\n"
          ]
        }
      ]
    },
    {
      "cell_type": "code",
      "source": [
        "#20 - Decorator\n",
        "\n",
        "def traceroo(func):\n",
        "  print(f\"In the function {func.__name__}, it takes all all arguments given\")\n",
        "  print(f\"And then put it into the 'nums' list.\")\n",
        "  print(f\"After this, I put the correct values into the variables of\")\n",
        "  print(f\"'lowest' with the use of min()\")\n",
        "  print(f\"'highest' with the use of max()\")\n",
        "  print(f\"and 'added' with the use of sum()\")\n",
        "  print(f\"Then the variables are placed into the 'result' tuple...\")\n",
        "  print(f\"Which is then returned.\")\n",
        "\n",
        "traceroo(MinMaxSum2)"
      ],
      "metadata": {
        "colab": {
          "base_uri": "https://localhost:8080/"
        },
        "id": "GAmbcHGI-djQ",
        "outputId": "a52850f6-49cc-4d18-ea77-63eafb5a27d4"
      },
      "execution_count": 122,
      "outputs": [
        {
          "output_type": "stream",
          "name": "stdout",
          "text": [
            "In the function MinMaxSum2, it takes all all arguments given\n",
            "And then put it into the 'nums' list.\n",
            "After this, I put the correct values into the variables of\n",
            "'lowest' with the use of min()\n",
            "'highest' with the use of max()\n",
            "and 'added' with the use of sum()\n",
            "Then the variables are placed into the 'result' tuple\n",
            "Which is then returned.\n"
          ]
        }
      ]
    },
    {
      "cell_type": "code",
      "source": [
        "#21 - Class\n",
        "\n",
        "class Class():\n",
        "  def __init__(self, value1):\n",
        "    self.value1 = value1\n",
        "\n",
        "  def __add__(self, value2):\n",
        "    return Class(self.value1 + value2.value1)\n",
        "\n",
        "  def __repr__(self):\n",
        "    return f'Class(name={self.value1})'\n",
        "#    return f'Class(\"{self.value1}\")'\n",
        "\n",
        "  def __str__(self):\n",
        "    return f'Value is {self.value1}'\n",
        "\n",
        "obj1 = Class(\"one\")\n",
        "obj2 = Class(\"two\")\n",
        "obj3 = obj1 + obj2\n",
        "print(obj3.__str__())\n",
        "print(obj3.__repr__())"
      ],
      "metadata": {
        "colab": {
          "base_uri": "https://localhost:8080/"
        },
        "id": "_W80LaKi-0Yh",
        "outputId": "7b812c2e-539e-4ae1-a451-379c03342508"
      },
      "execution_count": 137,
      "outputs": [
        {
          "output_type": "stream",
          "name": "stdout",
          "text": [
            "Value is onetwo\n",
            "Class(name=onetwo)\n"
          ]
        }
      ]
    },
    {
      "cell_type": "code",
      "source": [
        "#22 - Digits of pi\n",
        "\n",
        "from pathlib import Path\n",
        "\n",
        "path = Path('pi_digits.txt')\n",
        "contents = path.read_text()\n",
        "\n",
        "lines = contents.splitlines()\n",
        "pi_string = ''\n",
        "for line in lines:\n",
        "  pi_string += line.strip()\n",
        "\n",
        "birthday = input(\"Enter birthday in the form mmddyy: \")\n",
        "if birthday in pi_string:\n",
        "  print(\"Your birthday is in the first million digits of pi\")\n",
        "else:\n",
        "  print(\"Your birthday is not in the first million digits of pi\")\n",
        "\n",
        "#mine apparently isnt"
      ],
      "metadata": {
        "colab": {
          "base_uri": "https://localhost:8080/"
        },
        "id": "3TcAxea0SmCO",
        "outputId": "04c83208-22b7-4329-e495-89d738fae7b7"
      },
      "execution_count": 149,
      "outputs": [
        {
          "output_type": "stream",
          "name": "stdout",
          "text": [
            "Enter birthday in the form mmddyy: 082504\n",
            "Your birthday is not in the first million digits of pi\n"
          ]
        }
      ]
    }
  ]
}