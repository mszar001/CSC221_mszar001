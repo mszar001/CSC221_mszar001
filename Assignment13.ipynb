{
  "nbformat": 4,
  "nbformat_minor": 0,
  "metadata": {
    "colab": {
      "provenance": [],
      "authorship_tag": "ABX9TyODYtTkPTt81rPQ+tJYnwdT",
      "include_colab_link": true
    },
    "kernelspec": {
      "name": "python3",
      "display_name": "Python 3"
    },
    "language_info": {
      "name": "python"
    }
  },
  "cells": [
    {
      "cell_type": "markdown",
      "metadata": {
        "id": "view-in-github",
        "colab_type": "text"
      },
      "source": [
        "<a href=\"https://colab.research.google.com/github/mszar001/CSC221_mszar001/blob/main/Assignment13.ipynb\" target=\"_parent\"><img src=\"https://colab.research.google.com/assets/colab-badge.svg\" alt=\"Open In Colab\"/></a>"
      ]
    },
    {
      "cell_type": "code",
      "execution_count": 6,
      "metadata": {
        "colab": {
          "base_uri": "https://localhost:8080/"
        },
        "id": "BrO92mQNB4mV",
        "outputId": "0377523e-b568-44ee-80c3-ea8ce14c635b"
      },
      "outputs": [
        {
          "output_type": "stream",
          "name": "stdout",
          "text": [
            "In Python you can... create variables\n",
            "In Python you can... create lists\n",
            "In Python you can... create dictionaries\n",
            "In Python you can... create various loops\n",
            "In Python you can... read out text\n",
            "In Python you can... print variables\n",
            "In Python you can... do math\n",
            "In Python you can... input letters and numbers \n",
            "\n",
            "\n",
            "In Python you can... create variables\n",
            "In Python you can... create lists\n",
            "In Python you can... create dictionaries\n",
            "In Python you can... create various loops\n",
            "In Python you can... read out text\n",
            "In Python you can... print variables\n",
            "In Python you can... do math\n",
            "In Python you can... input letters and numbers \n"
          ]
        }
      ],
      "source": [
        "#10-1 Learning Python\n",
        "from pathlib import Path\n",
        "\n",
        "path = Path('Assignment13.txt')\n",
        "message = path.read_text()\n",
        "lines = message.splitlines()\n",
        "\n",
        "print(message)\n",
        "print(\"\\n\")\n",
        "for line in lines:\n",
        "  print(line)\n",
        "\n",
        "\n",
        "#10-4 Guest\n",
        "from pathlib import Path\n",
        "\n",
        "path = Path('guestlist.txt')\n",
        "guest_name = input(\"Hello, what is your name? \")\n",
        "path.write_text(f\"{guest_name}\")\n",
        "\n",
        "print(path.read_text())"
      ]
    },
    {
      "cell_type": "code",
      "source": [
        "#File Parsing Exersise\n",
        "from pathlib import Path\n",
        "\n",
        "received1 = Path('/content/as_received1.txt').read_text()\n",
        "received2 = Path('/content/as_received2.txt').read_text()\n",
        "received3 = Path('/content/as_received3.txt').read_text()\n",
        "lines1 = received1.splitlines()\n",
        "lines2 = received2.splitlines()\n",
        "lines3 = received3.splitlines()\n",
        "\n",
        "readCorrected = Path('corrected.txt').read_text()\n",
        "writeCorrected = Path('corrected.txt')\n",
        "\n",
        "fileone = \"\"\n",
        "filetwo = \"\"\n",
        "filethree = \"\"\n",
        "\n",
        "\n",
        "def sort(line):\n",
        "  if '_' in line:\n",
        "    line = line.replace('_', ' ')\n",
        "  if 'dot com' in line:\n",
        "    line = line.replace('dot com', '.com')\n",
        "  if 'nnn' in line:\n",
        "    line = line.replace('nnn', 'nn')\n",
        "  if 'swiming' in line:\n",
        "    line = line.replace('swiming', 'swimming')\n",
        "  if '++' in line:\n",
        "    line = line.replace('++', '+')\n",
        "  if '0O' in line:\n",
        "    line = line.replace('0O', '00')\n",
        "  if ('platsburgh' in line or 'plattsburg' in line\n",
        "      or 'platsburg' in line or 'plattsberg' in line):\n",
        "    line = line.replace('platsburgh', 'plattsburgh')\n",
        "    line = line.replace('plattsburg', 'plattsburgh')\n",
        "    line = line.replace('platsburg', 'plattsburgh')\n",
        "    line = line.replace('plattsberg', 'plattsburgh')\n",
        "\n",
        "  newline = line\n",
        "  return(newline)\n",
        "\n",
        "\n",
        "for line in lines1:\n",
        "  newline = sort(line)\n",
        "  if newline in readCorrected:\n",
        "    continue\n",
        "  else:\n",
        "    fileone += f\"{newline}\\n\"\n",
        "    writeCorrected.write_text(fileone)\n",
        "\n",
        "readCorrected = Path('corrected.txt').read_text()\n",
        "filetwo = fileone\n",
        "for line in lines2:\n",
        "  newline = str(sort(line))\n",
        "  if newline in readCorrected:\n",
        "    continue\n",
        "  else:\n",
        "    filetwo += f\"{newline}\\n\"\n",
        "    writeCorrected.write_text(filetwo)\n",
        "\n",
        "readCorrected = Path('corrected.txt').read_text()\n",
        "filethree = filetwo\n",
        "for line in lines3:\n",
        "  newline = str(sort(line))\n",
        "  if newline in readCorrected:\n",
        "    continue\n",
        "  else:\n",
        "    filethree += f\"{newline}\\n\"\n",
        "    writeCorrected.write_text(filethree)\n",
        "\n",
        "readCorrected = Path('corrected.txt').read_text()"
      ],
      "metadata": {
        "colab": {
          "base_uri": "https://localhost:8080/"
        },
        "id": "-LUln9LdGfcJ",
        "outputId": "4e74a934-f4e4-441f-e45a-0cd94f9cde8c"
      },
      "execution_count": 52,
      "outputs": [
        {
          "output_type": "stream",
          "name": "stdout",
          "text": [
            "Damu de Lomofeno, damud@msn .com, +23 549 0690 275, hiking, singing, airplanes\n",
            "Pame el Sicunili, pamee@yahoo .com, +41 698 158 729, swimming, fishing, dancing\n",
            "Wulina Rinofo, wulinar@msn.com, +33 105 816 341, singing, airplanes, saxophone, poetry\n",
            "Yugi Wotire, yugiw@yahoo.com, +17 594 725 3297, hiking, saxophone, poetry\n",
            "Name, Email, Phone, Pastimes\n",
            "Cepovo Tacuahai, ctacu002@plattsburgh.edu, +29 636 4740 631, bicycling, tennis, farming\n",
            "Coyi Nusiowomi, coyin@gmail .com, +1 267 616 4682, fishing, coding, tennis\n",
            "Sigi de Yejiwijo, sdeye006@plattsburgh.edu, +19 121 801 351, running\n",
            "Vecadu Fofebakoa, vfofe001@plattsburghh.edu, +24 102 5493 457, bicycling, dancing\n",
            "Vige Wonohu, vwono001@plattsburghh.edu, +33 587 643 232, sewing, saxophone, reading, farming\n",
            "Wivasu el Fobuewidi, welfo001@plattsburghh.edu, +40 865 2936 187\n",
            "Cadene Yiguti, cyigu002@plattsburgh.edu, +33 265 2912 8501, coding\n",
            "Cihisu Fuhihe, cfuhi007@plattsburgh.edu, +42 724 609 734, cards\n",
            "Desemo el Yuvaiyobu, delyu006@plattsburgh.edu, +42 834 5478 395, airplanes, coding, farming\n",
            "Lame Dakuwife, lamed@gmail .com, +21 719 4269 420, running, piano, cards\n",
            "Lemo Lokakuhie, lemol@msn.com, +2 769 1361 964, saxophone, tennis, farming\n",
            "Mavile de Gubodehe, mdegu001@plattsburghh.edu, +14 901 6728 4281, coding\n",
            "Sigi de Yejiwijo, sdeye006@plattsburghh.edu, +19 121 801 351, running\n",
            "Vunacu Picualeivi, vpicu007@plattsburgh.edu, +12 972 3042 5895, coding, tennis\n",
            "\n"
          ]
        }
      ]
    },
    {
      "cell_type": "markdown",
      "source": [
        "I ran into an issue where it won't bring all the files to the corrected.txt file.\n",
        "For some reason it was always missing just two.\n",
        "Additionally I couldn't figure out how to sort the text file.\n",
        "I give up, as I'm running out of time, and something is better than nothing I guess."
      ],
      "metadata": {
        "id": "x45MommOeqdl"
      }
    },
    {
      "cell_type": "code",
      "source": [
        "#Here is the output of the corrected.txt file if you want to see the results I got.\n",
        "\n",
        "print(readCorrected)"
      ],
      "metadata": {
        "colab": {
          "base_uri": "https://localhost:8080/"
        },
        "id": "yb59ir9ZOK9j",
        "outputId": "0b2286f6-c3dc-4198-ea15-62dba787e4a5"
      },
      "execution_count": 53,
      "outputs": [
        {
          "output_type": "stream",
          "name": "stdout",
          "text": [
            "Damu de Lomofeno, damud@msn .com, +23 549 0690 275, hiking, singing, airplanes\n",
            "Pame el Sicunili, pamee@yahoo .com, +41 698 158 729, swimming, fishing, dancing\n",
            "Wulina Rinofo, wulinar@msn.com, +33 105 816 341, singing, airplanes, saxophone, poetry\n",
            "Yugi Wotire, yugiw@yahoo.com, +17 594 725 3297, hiking, saxophone, poetry\n",
            "Name, Email, Phone, Pastimes\n",
            "Cepovo Tacuahai, ctacu002@plattsburgh.edu, +29 636 4740 631, bicycling, tennis, farming\n",
            "Coyi Nusiowomi, coyin@gmail .com, +1 267 616 4682, fishing, coding, tennis\n",
            "Sigi de Yejiwijo, sdeye006@plattsburgh.edu, +19 121 801 351, running\n",
            "Vecadu Fofebakoa, vfofe001@plattsburghh.edu, +24 102 5493 457, bicycling, dancing\n",
            "Vige Wonohu, vwono001@plattsburghh.edu, +33 587 643 232, sewing, saxophone, reading, farming\n",
            "Wivasu el Fobuewidi, welfo001@plattsburghh.edu, +40 865 2936 187\n",
            "Cadene Yiguti, cyigu002@plattsburgh.edu, +33 265 2912 8501, coding\n",
            "Cihisu Fuhihe, cfuhi007@plattsburgh.edu, +42 724 609 734, cards\n",
            "Desemo el Yuvaiyobu, delyu006@plattsburgh.edu, +42 834 5478 395, airplanes, coding, farming\n",
            "Lame Dakuwife, lamed@gmail .com, +21 719 4269 420, running, piano, cards\n",
            "Lemo Lokakuhie, lemol@msn.com, +2 769 1361 964, saxophone, tennis, farming\n",
            "Mavile de Gubodehe, mdegu001@plattsburghh.edu, +14 901 6728 4281, coding\n",
            "Sigi de Yejiwijo, sdeye006@plattsburghh.edu, +19 121 801 351, running\n",
            "Vunacu Picualeivi, vpicu007@plattsburgh.edu, +12 972 3042 5895, coding, tennis\n",
            "\n"
          ]
        }
      ]
    }
  ]
}