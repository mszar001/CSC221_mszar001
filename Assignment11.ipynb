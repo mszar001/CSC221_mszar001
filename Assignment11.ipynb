{
  "nbformat": 4,
  "nbformat_minor": 0,
  "metadata": {
    "colab": {
      "provenance": [],
      "authorship_tag": "ABX9TyPGsuK963HoYDnclAmB9FTp",
      "include_colab_link": true
    },
    "kernelspec": {
      "name": "python3",
      "display_name": "Python 3"
    },
    "language_info": {
      "name": "python"
    }
  },
  "cells": [
    {
      "cell_type": "markdown",
      "metadata": {
        "id": "view-in-github",
        "colab_type": "text"
      },
      "source": [
        "<a href=\"https://colab.research.google.com/github/mszar001/CSC221_mszar001/blob/main/Assignment11.ipynb\" target=\"_parent\"><img src=\"https://colab.research.google.com/assets/colab-badge.svg\" alt=\"Open In Colab\"/></a>"
      ]
    },
    {
      "cell_type": "code",
      "execution_count": null,
      "metadata": {
        "colab": {
          "base_uri": "https://localhost:8080/"
        },
        "id": "X7alEv2nqMtm",
        "outputId": "9c075396-ec9c-478b-97bf-e577fc2b855e"
      },
      "outputs": [
        {
          "output_type": "stream",
          "name": "stdout",
          "text": [
            "My dog's name is Willie.\n",
            "My dog is 6 years old.\n",
            "Willie is now sitting.\n",
            "Your dog's name is Lucy.\n",
            "Your dog is 3 years old.\n",
            "Lucy is now sitting.\n"
          ]
        }
      ],
      "source": [
        "#Dogs\n",
        "\n",
        "class Dog:\n",
        "  def __init__(self, name, age):\n",
        "    '''Initialize name and age attributes'''\n",
        "    self.name = name\n",
        "    self.age = age\n",
        "\n",
        "  def sit(self):\n",
        "    '''simulate a dog sitting in response to a command'''\n",
        "    print(f\"{self.name} is now sitting.\")\n",
        "\n",
        "  def roll_over(self):\n",
        "    '''simulate a dog rolling over in response to a command'''\n",
        "    print(f\"{self.name} rolled over!\")\n",
        "\n",
        "my_dog = Dog('Willie', 6)\n",
        "your_dog = Dog('Lucy', 3)\n",
        "\n",
        "print(f\"My dog's name is {my_dog.name}.\")\n",
        "print(f\"My dog is {my_dog.age} years old.\")\n",
        "my_dog.sit()\n",
        "\n",
        "print(f\"Your dog's name is {your_dog.name}.\")\n",
        "print(f\"Your dog is {your_dog.age} years old.\")\n",
        "your_dog.sit()\n"
      ]
    },
    {
      "cell_type": "code",
      "source": [
        "#Cars\n",
        "\n",
        "class Car:\n",
        "  def __init__(self, make, model, year):\n",
        "    '''Initialize'''\n",
        "    self.make = make\n",
        "    self.model = model\n",
        "    self.year = year\n",
        "    self.odometer_reading = 0\n",
        "\n",
        "  def get_descriptive_name(self):\n",
        "    '''Return a neatly formatted descriptive name'''\n",
        "    long_name = f\"{self.year} {self.make} {self.model}\"\n",
        "    return long_name\n",
        "\n",
        "  def read_odometer(self):\n",
        "    '''Print a statement showing the car's mileage.'''\n",
        "    print(f\"This car has {self.odometer_reading} miles on it.\")\n",
        "\n",
        "  def update_odometer(self, mileage):\n",
        "    '''Sets the odometer reading to the given value.\n",
        "    Reject value if trying to roll odometer back'''\n",
        "    if(mileage >= self.odometer_reading):\n",
        "      self.odometer_reading = mileage\n",
        "    else:\n",
        "      print(\"You can't roll back an odometer!\")\n",
        "\n",
        "  def increment_odometer(self, miles):\n",
        "    '''Add the given amount to the odometer reading'''\n",
        "    if(miles >= 0):\n",
        "      self.odometer_reading += miles\n",
        "    else:\n",
        "      print(\"You can't roll back an odometer!\")\n",
        "\n",
        "my_new_car = Car('audi', 'a4', '2024')\n",
        "print(my_new_car.get_descriptive_name())\n",
        "my_new_car.update_odometer(23)\n",
        "my_new_car.read_odometer()\n",
        "\n",
        "my_used_car = Car('subaru', 'outback', '2019')\n",
        "print(my_used_car.get_descriptive_name())\n",
        "my_used_car.update_odometer(23_500)\n",
        "my_used_car.read_odometer()\n",
        "\n",
        "my_used_car.increment_odometer(100)\n",
        "my_used_car.read_odometer()\n",
        "\n",
        "class Battery:\n",
        "  '''A simple attempt to model a battery for an electric car.'''\n",
        "\n",
        "  def __init__(self, battery_size =40):\n",
        "    '''Initialize the battery's attributes'''\n",
        "    self.battery_size = battery_size\n",
        "\n",
        "  def describe_battery(self):\n",
        "    '''Print a statement describing the battery size.'''\n",
        "    print(f\"This car has a {self.battery_size}-kWh battery.\")\n",
        "\n",
        "  def get_range(self):\n",
        "    '''Print a statement about the range this battery provides'''\n",
        "    if(self.battery_size == 40):\n",
        "      range = 150\n",
        "    elif(self.battery_size == 65):\n",
        "      range = 225\n",
        "\n",
        "    print(f\"This car can go about {range} miles on a full charge\")\n",
        "\n",
        "class ElectricCar(Car):\n",
        "  '''represents aspects of a car, specific to electric vehicles'''\n",
        "  def __init__(self, make, model, year):\n",
        "    '''initialize attributes of the parent class.\n",
        "    Then initialize attributes specific to an electric car'''\n",
        "    super().__init__(make, model, year)\n",
        "    self.battery = Battery()\n",
        "\n",
        "\n",
        "print(\"\\n\")\n",
        "my_leaf = ElectricCar('nissan', 'leaf', '2024')\n",
        "print(my_leaf.get_descriptive_name())\n",
        "my_leaf.battery.describe_battery()\n",
        "my_leaf.battery.get_range()\n",
        "\n",
        "#The rest of the things for Cars involves imports that I already know how to use."
      ],
      "metadata": {
        "colab": {
          "base_uri": "https://localhost:8080/"
        },
        "id": "786AEuuquu1R",
        "outputId": "7a54cf0c-e179-452a-bde9-fb94fd4d9a64"
      },
      "execution_count": null,
      "outputs": [
        {
          "output_type": "stream",
          "name": "stdout",
          "text": [
            "2024 audi a4\n",
            "This car has 23 miles on it.\n",
            "2019 subaru outback\n",
            "This car has 23500 miles on it.\n",
            "This car has 23600 miles on it.\n",
            "\n",
            "\n",
            "2024 nissan leaf\n",
            "This car has a 40-kWh battery.\n",
            "This car can go about 150 miles on a full charge\n"
          ]
        }
      ]
    },
    {
      "cell_type": "code",
      "source": [
        "#9-1 - Restaurant\n",
        "\n",
        "class Restaurant():\n",
        "  def __init__(self, restaurant_name, cuisine_type):\n",
        "    self.restaurant_name = restaurant_name\n",
        "    self.cuisine_type = cuisine_type\n",
        "\n",
        "  def describe_restaurant(self):\n",
        "    print(f\"The restaurant's name is {self.restaurant_name}\")\n",
        "    print(f\"The restaurant serves {self.cuisine_type}\")\n",
        "\n",
        "  def open_restaurant(self):\n",
        "    print(f\"{self.restaurant_name} is open!\")\n",
        "\n",
        "restaurant = Restaurant(\"Food Place\", \"breakfast\")\n",
        "print(restaurant.restaurant_name)\n",
        "print(restaurant.cuisine_type)\n",
        "restaurant.describe_restaurant()\n",
        "restaurant.open_restaurant()\n",
        "\n",
        "print(\"\\n\")\n",
        "\n",
        "#9-2 Three Restaurants\n",
        "\n",
        "one = Restaurant('Sea Stack Shack', 'seafood')\n",
        "two = Restaurant('Furnace', 'pizza')\n",
        "three = Restaurant('The Egg', 'breakfast')\n",
        "\n",
        "print(one.describe_restaurant())\n",
        "print(two.describe_restaurant())\n",
        "print(three.describe_restaurant())\n",
        "\n",
        "print(\"\\n\")\n",
        "\n",
        "#9-3 Users\n",
        "\n",
        "class User():\n",
        "  def __init__(self, first_name, last_name, fave_activity, fave_color, pronoun1, pronoun2):\n",
        "    self.first_name = first_name\n",
        "    self.last_name = last_name\n",
        "    self.fave_activity = fave_activity\n",
        "    self.fave_color = fave_color\n",
        "    self.pronoun1 = pronoun1\n",
        "    self.pronoun2 = pronoun2\n",
        "\n",
        "  def describe_user(self):\n",
        "    print(f\"{self.pronoun2.capitalize()} name is {self.first_name} {self.last_name}.\")\n",
        "    print(f\"{self.pronoun2.capitalize()} favorite color is {self.fave_color} and {self.pronoun1} likes to {self.fave_activity}.\")\n",
        "\n",
        "  def greet_user(self):\n",
        "    print(f\"Hello {self.first_name} {self.last_name}.\")\n",
        "\n",
        "Ghost = User('Ghost', 'Lynn', 'play guitar', 'blue', 'she', 'her')\n",
        "Mars = User('Mars', 'Bellis', 'draw', 'red', 'they', 'their')\n",
        "Erica = User('Erica', 'VanValkenburg', 'write', 'blue', 'she', 'her')\n",
        "\n",
        "Ghost.greet_user()\n",
        "Ghost.describe_user()\n",
        "Mars.greet_user()\n",
        "Mars.describe_user()\n",
        "Erica.greet_user()\n",
        "Erica.describe_user()"
      ],
      "metadata": {
        "id": "3gseAUE9vIqt",
        "colab": {
          "base_uri": "https://localhost:8080/"
        },
        "outputId": "101e99d0-3e25-4fa8-d3ea-5f3722181d0c"
      },
      "execution_count": 12,
      "outputs": [
        {
          "output_type": "stream",
          "name": "stdout",
          "text": [
            "Food Place\n",
            "breakfast\n",
            "The restaurant's name is Food Place\n",
            "The restaurant serves breakfast\n",
            "Food Place is open!\n",
            "\n",
            "\n",
            "The restaurant's name is Sea Stack Shack\n",
            "The restaurant serves seafood\n",
            "None\n",
            "The restaurant's name is Furnace\n",
            "The restaurant serves pizza\n",
            "None\n",
            "The restaurant's name is The Egg\n",
            "The restaurant serves breakfast\n",
            "None\n",
            "\n",
            "\n",
            "Hello Ghost Lynn.\n",
            "Her name is Ghost Lynn.\n",
            "Her favorite color is blue and she likes to play guitar.\n",
            "Hello Mars Bellis.\n",
            "Their name is Mars Bellis.\n",
            "Their favorite color is red and they likes to draw.\n",
            "Hello Erica VanValkenburg.\n",
            "Her name is Erica VanValkenburg.\n",
            "Her favorite color is blue and she likes to write.\n"
          ]
        }
      ]
    },
    {
      "cell_type": "code",
      "source": [
        "#9-6 Ice Cream Stand\n",
        "class IceCreamStand(Restaurant):\n",
        "  def __init__(self, restaurant_name, cuisine_type, flavors = []):\n",
        "    super().__init__(restaurant_name, cuisine_type)\n",
        "    self.flavors = flavors\n",
        "\n",
        "  def listofFlavors(self):\n",
        "\n",
        "    print(f\"The options of flavors are:\")\n",
        "    for flavor in self.flavors:\n",
        "      print(flavor)\n",
        "\n",
        "IceCream = IceCreamStand('Icy Point', 'ice cream', ['vanilla', 'chocolate', 'strawberry', 'mint', 'cookie dough'])\n",
        "\n",
        "IceCream.describe_restaurant()\n",
        "IceCream.listofFlavors()\n",
        "\n",
        "print(\"\\n\")\n",
        "#9-7 Admin\n",
        "\n",
        "class Admin(User):\n",
        "  def __init__(self, first_name, last_name, fave_activity, fave_color, pronoun1, pronoun2, privlages):\n",
        "    super().__init__(first_name, last_name, fave_activity, fave_color, pronoun1, pronoun2)\n",
        "    self.privlages = privlages\n",
        "\n",
        "  def show_privlages(self):\n",
        "    for privlage in self.privlages:\n",
        "      print(privlage)\n",
        "\n",
        "Matt = Admin('Matt', 'Szary', 'play games', 'blue', 'he', 'him', [\"Can remove users\", 'Can view other users', 'can add new users', 'can delete posts'])\n",
        "Matt.show_privlages()\n",
        "Matt.describe_user()"
      ],
      "metadata": {
        "colab": {
          "base_uri": "https://localhost:8080/"
        },
        "id": "5Swngh23UueB",
        "outputId": "0a3a5c45-c690-4aa4-fe94-2e28696c1ce3"
      },
      "execution_count": 29,
      "outputs": [
        {
          "output_type": "stream",
          "name": "stdout",
          "text": [
            "The restaurant's name is Icy Point\n",
            "The restaurant serves ice cream\n",
            "The options of flavors are:\n",
            "vanilla\n",
            "chocolate\n",
            "strawberry\n",
            "mint\n",
            "cookie dough\n",
            "\n",
            "\n",
            "Can remove users\n",
            "Can view other users\n",
            "can add new users\n",
            "can delete posts\n",
            "Him name is Matt Szary.\n",
            "Him favorite color is blue and he likes to play games.\n"
          ]
        }
      ]
    }
  ]
}