{
  "nbformat": 4,
  "nbformat_minor": 0,
  "metadata": {
    "colab": {
      "provenance": [],
      "authorship_tag": "ABX9TyMtevNWdl6fVl4gU0mLqF96",
      "include_colab_link": true
    },
    "kernelspec": {
      "name": "python3",
      "display_name": "Python 3"
    },
    "language_info": {
      "name": "python"
    }
  },
  "cells": [
    {
      "cell_type": "markdown",
      "metadata": {
        "id": "view-in-github",
        "colab_type": "text"
      },
      "source": [
        "<a href=\"https://colab.research.google.com/github/mszar001/CSC221_mszar001/blob/main/Assignment16.ipynb\" target=\"_parent\"><img src=\"https://colab.research.google.com/assets/colab-badge.svg\" alt=\"Open In Colab\"/></a>"
      ]
    },
    {
      "cell_type": "code",
      "execution_count": 4,
      "metadata": {
        "id": "gjosdXm9wZww"
      },
      "outputs": [],
      "source": [
        "#1.1 - Running Python\n",
        "#It's talking about the print command, and how it works.\n",
        "#Notably, it's more so formatted akin to putting it into a terminal.\n",
        "#I didn't know about the '_' being able to be used as a way to use the last response gotten\n",
        "#Thinking about looking more into poking around on the terminal"
      ]
    },
    {
      "cell_type": "code",
      "source": [
        "#1.2 - Python Programs\n",
        "#Still talking about running through a terminal\n",
        "#Talking about re-using code in a program through terminal by putting code in a text file\n",
        "#Nothing super special here"
      ],
      "metadata": {
        "id": "ukAC-foWwfcg"
      },
      "execution_count": 5,
      "outputs": []
    },
    {
      "cell_type": "code",
      "source": [
        "#1.3 - Primitives, Variables, and Expressions\n",
        "#Starts with talking about the different types of variables.\n",
        "#Notably, integers, floats, strings, and booleans\n",
        "#Explains the while loop and how it works 'testing the conditional that immediately follows'\n",
        "#I think while loops are better explained as 'checks the conditional before executing the loop'\n",
        "#and 'executes loop until conditional is checked and proven false."
      ],
      "metadata": {
        "id": "BcvkGT5Twf15"
      },
      "execution_count": 6,
      "outputs": []
    },
    {
      "cell_type": "code",
      "source": [
        "#1.4 - Arithmetic Operators\n",
        "#Explains addition, subtraction... so on so forth.\n",
        "#I didn't know increments and decrements could be called 'unary operations'\n",
        "#I didn't know about the round() function. Interesting how it works.\n",
        "#Has all the logic gates listed out here too\n",
        "#All the comparison operators... I'm pretty familiar with all of them.\n",
        "#Talks about 'or' 'and' and 'not' next, which I also tend to use a lot in loops."
      ],
      "metadata": {
        "id": "NV3SjP_Qy4_w"
      },
      "execution_count": 7,
      "outputs": []
    },
    {
      "cell_type": "code",
      "source": [
        "#1.5 - Conditionals and Control Flow\n",
        "#Brief descriptions of while, if, and else statements, which I know how to use.\n",
        "#I wonder if it'll talk about elif in this section.\n",
        "#Oh, there it is.\n",
        "#It's now talking about using the conditionals from last subsection in the conditions for these loops\n",
        "#The 'walrus operator' or assignment expression is not one I'm familiar with.\n",
        "#I did a little research on it, and it seems interesting. Will look more into it later.\n",
        "#Explains breaks and continues in loop control.\n",
        "#I like using breaks, but I've been told that it's not a great habit to use them.\n",
        "#Supposedly they can make some difficult readability in code. I can see that happening."
      ],
      "metadata": {
        "id": "HjFL1C2e0ZFM"
      },
      "execution_count": 8,
      "outputs": []
    },
    {
      "cell_type": "code",
      "source": [
        "#1.6 - Text Strings\n",
        "#Talking about how to declare a string in a variable\n",
        "#I hadn't really thought much about how triple quotes could be used on a string\n",
        "#Seems a little pointless and messy to me.\n",
        "#Now it's talking about using variables as parts of a string with the f\"\"\n",
        "#I can't see anywhere if it has a formal name.\n",
        "#Well, apart from possibly something to do with the format() method\n",
        "#Now it's talking about how counting starts at 0\n",
        "#As well as how to pick out letters in the string by position in the string.\n",
        "#Talking about picking out multiple letters from a string at the same time...\n",
        "#The replace() method is definitely interesting.\n",
        "#When I was looking for solutions for Assignment 13 I found the replace() method.\n",
        "#Talking about other string methods\n",
        "#I don't think I've seen startswith() or endswith() before...\n",
        "#Then it's talking about changing numbers in strings to integers to do math with them.\n",
        "#Or else it'll just press the two strings together rather than formally doing the correct equation\n",
        "#repr() is interesting.. it seems to spit out whatever you put in symbol for symbol.\n",
        "#Which is definitely different from strings, which can hide things.\n",
        "#Mostly stuff like \\n for a new line.\n",
        "#repr is stated to be good for debugging.. that makes a lot of sense."
      ],
      "metadata": {
        "id": "ch6XAVSY1xmi"
      },
      "execution_count": 9,
      "outputs": []
    },
    {
      "cell_type": "code",
      "source": [
        "#1.7 - File Input and Output\n",
        "#open() and close() are new... a different way to deal with files.\n",
        "#Perhaps I could've used these to do Assignment 13 better.\n",
        "#I think this is the first time for loops are getting introduced\n",
        "#for loops are very handy, that's for sure.\n",
        "#I'm not super familiar with the 'with' command.\n",
        "#It seems to be some kind of conditional...\n",
        "#Okay, so with opens a file, and closes it as soon as you leave the 'with' statement."
      ],
      "metadata": {
        "id": "BQSVLl1X4B0i"
      },
      "execution_count": 10,
      "outputs": []
    },
    {
      "cell_type": "code",
      "source": [
        "#1.8 - Lists\n",
        "#Introducing the idea of lists...\n",
        "#Pointing out the different ways to pick out places in a list.\n",
        "#Like how 2 gives the third position, and -1 gives the last position.\n",
        "#Mentions of the insert() method and usage of it...\n",
        "#the most useful thing of the for loop: Moving through lists!\n",
        "#Assigning list portions to variables...\n",
        "#Replacing positions in a list by pointing out the position to replace...\n",
        "#Nesting lists in each other can get hard to follow pretty quickly..\n",
        "#I suppose it can be useful though.\n",
        "#example of importing a file and doing some simple math... not too bad."
      ],
      "metadata": {
        "id": "p-hhZYdS4_Sh"
      },
      "execution_count": 11,
      "outputs": []
    },
    {
      "cell_type": "markdown",
      "source": [
        "Okay I'm nowhere near done and I'm hitting this time limit hard. Sorry about that."
      ],
      "metadata": {
        "id": "oTe-nzX96Qby"
      }
    }
  ]
}