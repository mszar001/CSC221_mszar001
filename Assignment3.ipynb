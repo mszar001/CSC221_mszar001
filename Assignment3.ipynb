{
  "nbformat": 4,
  "nbformat_minor": 0,
  "metadata": {
    "colab": {
      "provenance": [],
      "toc_visible": true,
      "authorship_tag": "ABX9TyM0B+JfQj3sQ4Ow9QSAzsNi",
      "include_colab_link": true
    },
    "kernelspec": {
      "name": "python3",
      "display_name": "Python 3"
    },
    "language_info": {
      "name": "python"
    }
  },
  "cells": [
    {
      "cell_type": "markdown",
      "metadata": {
        "id": "view-in-github",
        "colab_type": "text"
      },
      "source": [
        "<a href=\"https://colab.research.google.com/github/mszar001/CSC221_mszar001/blob/main/Assignment3.ipynb\" target=\"_parent\"><img src=\"https://colab.research.google.com/assets/colab-badge.svg\" alt=\"Open In Colab\"/></a>"
      ]
    },
    {
      "cell_type": "code",
      "execution_count": 2,
      "metadata": {
        "colab": {
          "base_uri": "https://localhost:8080/"
        },
        "id": "h0QjRHuZfZyV",
        "outputId": "11ef121b-a60c-48ae-a8cd-cd72605d9697"
      },
      "outputs": [
        {
          "output_type": "stream",
          "name": "stdout",
          "text": [
            "Hello Hello!\n",
            "Bye bye!\n"
          ]
        }
      ],
      "source": [
        "# 2-1 and 2-2 as 2-2 is an extension of 2-1\n",
        "note = \"Hello Hello!\"\n",
        "print(note)\n",
        "note = \"Bye bye!\"\n",
        "print(note)"
      ]
    },
    {
      "cell_type": "code",
      "source": [
        "#2-3 and 2-4, with a repitition of 2-3 to show 2-4\n",
        "name = \"Kenna\"\n",
        "print(\"Hello \" + name.upper() + \"!\")\n",
        "print(\"Hello \" + name.lower() + \"!\")\n",
        "print(\"Hello \" + name.title() + \"!\")"
      ],
      "metadata": {
        "colab": {
          "base_uri": "https://localhost:8080/"
        },
        "id": "EPSmSeHBf499",
        "outputId": "855a0842-60b4-4d4d-c255-a91d6ecd91ec"
      },
      "execution_count": 3,
      "outputs": [
        {
          "output_type": "stream",
          "name": "stdout",
          "text": [
            "Hello KENNA!\n",
            "Hello kenna!\n",
            "Hello Kenna!\n"
          ]
        }
      ]
    },
    {
      "cell_type": "code",
      "source": [
        "#2-5 and 2-6 as 2-6 is an extension of 2-5\n",
        "famous_person = \"John F Kennedy\"\n",
        "print(\"\\\"Change is the law of life, and those who look only to the past or present are certain to miss the future.\\\" This is a quote from \" + famous_person + \".\")"
      ],
      "metadata": {
        "colab": {
          "base_uri": "https://localhost:8080/"
        },
        "id": "6OG5QZADgovt",
        "outputId": "60b84369-85b4-4d1b-b55f-1d2aeeb0c2fa"
      },
      "execution_count": 9,
      "outputs": [
        {
          "output_type": "stream",
          "name": "stdout",
          "text": [
            "\"Change is the law of life, and those who look only to the past or present are certain to miss the future.\" This is a quote from John F Kennedy.\n"
          ]
        }
      ]
    },
    {
      "cell_type": "code",
      "source": [
        "#2-7\n",
        "name = \"\\tKenna\\t\"\n",
        "print( f\"{name}\\n{name.lstrip()}\\n{name.rstrip()}\\n{name.strip()}\")"
      ],
      "metadata": {
        "colab": {
          "base_uri": "https://localhost:8080/"
        },
        "id": "KWgIHYJph_PA",
        "outputId": "a6ce2edf-1383-49c5-80c9-da04464b31de"
      },
      "execution_count": 17,
      "outputs": [
        {
          "output_type": "stream",
          "name": "stdout",
          "text": [
            "\tKenna\t\n",
            "Kenna\t\n",
            "\tKenna\n",
            "Kenna\n"
          ]
        }
      ]
    },
    {
      "cell_type": "code",
      "source": [
        "#2-8\n",
        "filename = \"python_notes.txt\"\n",
        "print(filename.removesuffix('.txt'))"
      ],
      "metadata": {
        "colab": {
          "base_uri": "https://localhost:8080/"
        },
        "id": "wnSxib1ur9fT",
        "outputId": "d1ed4717-6c7e-4b62-f67c-f3a820f51cfd"
      },
      "execution_count": 19,
      "outputs": [
        {
          "output_type": "stream",
          "name": "stdout",
          "text": [
            "python_notes\n"
          ]
        }
      ]
    },
    {
      "cell_type": "code",
      "source": [
        "#2-9\n",
        "print(2+6)\n",
        "print(4*2)\n",
        "print(10-2)\n",
        "print(24/3)"
      ],
      "metadata": {
        "colab": {
          "base_uri": "https://localhost:8080/"
        },
        "id": "sw7Bz2zBub0Y",
        "outputId": "7d259bb6-4a1f-4712-8fe8-d403b732fe3b"
      },
      "execution_count": 21,
      "outputs": [
        {
          "output_type": "stream",
          "name": "stdout",
          "text": [
            "8\n",
            "8\n",
            "8\n",
            "8.0\n"
          ]
        }
      ]
    },
    {
      "cell_type": "code",
      "source": [
        "#2-10\n",
        "num = \"7\"\n",
        "print(\"My favorite number is \" + num)"
      ],
      "metadata": {
        "colab": {
          "base_uri": "https://localhost:8080/"
        },
        "id": "eLeEibHlvdbb",
        "outputId": "79a67987-a91c-4579-9599-b1dd899f57a0"
      },
      "execution_count": 23,
      "outputs": [
        {
          "output_type": "stream",
          "name": "stdout",
          "text": [
            "My favorite number is 7\n"
          ]
        }
      ]
    },
    {
      "cell_type": "code",
      "source": [
        "#2-11 I have already done\n",
        "#2-12 I'll also place here though\n",
        "import this"
      ],
      "metadata": {
        "id": "iTw2ecxSvxN2"
      },
      "execution_count": 32,
      "outputs": []
    }
  ]
}