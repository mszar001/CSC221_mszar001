{
  "nbformat": 4,
  "nbformat_minor": 0,
  "metadata": {
    "colab": {
      "provenance": [],
      "authorship_tag": "ABX9TyPmHkFWjbAR7prx4YU1Gznm",
      "include_colab_link": true
    },
    "kernelspec": {
      "name": "python3",
      "display_name": "Python 3"
    },
    "language_info": {
      "name": "python"
    }
  },
  "cells": [
    {
      "cell_type": "markdown",
      "metadata": {
        "id": "view-in-github",
        "colab_type": "text"
      },
      "source": [
        "<a href=\"https://colab.research.google.com/github/mszar001/CSC221_mszar001/blob/main/Assignment9.ipynb\" target=\"_parent\"><img src=\"https://colab.research.google.com/assets/colab-badge.svg\" alt=\"Open In Colab\"/></a>"
      ]
    },
    {
      "cell_type": "code",
      "execution_count": 9,
      "metadata": {
        "id": "kVmegRsGGshz",
        "colab": {
          "base_uri": "https://localhost:8080/"
        },
        "outputId": "7fc880d0-3dd8-4cd9-ece3-60b9703e0330"
      },
      "outputs": [
        {
          "output_type": "stream",
          "name": "stdout",
          "text": [
            "One of my favorite books is Mark of the Dragonfly\n",
            "Shirt Size: Large, Shirt Text: I Love Python\n",
            "Shirt Size: Medium, Shirt Text: I Love Python\n",
            "Shirt Size: Large, Shirt Text: Boo\n",
            "{'color': 'blue', 'tow_package': 'True', 'make': 'subaru', 'model': 'outback'}\n"
          ]
        }
      ],
      "source": [
        "#functions\n",
        "#8-2\n",
        "def favorite_book(title):\n",
        "  print(f\"One of my favorite books is {title}\")\n",
        "\n",
        "#8-3\n",
        "def make_shirt(size, text):\n",
        "  print(f\"Shirt Size: {size}, Shirt Text: {text}\")\n",
        "\n",
        "#8-14\n",
        "def make_car(manufacturer, model_name, **car_details):\n",
        "  car_details['make'] = manufacturer\n",
        "  car_details['model'] = model_name\n",
        "  return (car_details)\n",
        "\n",
        "#outputs/calling functions\n",
        "\n",
        "#8-2\n",
        "favorite_book('Mark of the Dragonfly')\n",
        "\n",
        "#8-3 and 8-4\n",
        "make_shirt('Large', 'I Love Python')\n",
        "make_shirt(size = 'Medium', text = 'I Love Python')\n",
        "make_shirt('Large', 'Boo')\n",
        "\n",
        "#8-14\n",
        "print(make_car('subaru', 'outback', color='blue', tow_package='True'))"
      ]
    },
    {
      "cell_type": "code",
      "source": [
        "#Part 2\n",
        "def num(num_one, num_two=''):\n",
        "  if num_two:\n",
        "    num_two = num_two\n",
        "  else:\n",
        "    num_two = 3.14159\n",
        "  result = num_one + num_two\n",
        "  return result, [num_one, num_two]\n",
        "\n",
        "print(num(5,2))\n",
        "print(num(6))\n",
        "print(num(10,5))\n",
        "\n",
        "\n",
        "def num2(verbose, num_one, num_two=''):\n",
        "  if(verbose == True):\n",
        "    if num_two:\n",
        "      num_two = num_two\n",
        "    else:\n",
        "      num_two = 3.14159\n",
        "    result = num_one + num_two\n",
        "    return result, [num_one, num_two]\n",
        "  else:\n",
        "    return\n",
        "\n",
        "print(num2(True, 5, 10))"
      ],
      "metadata": {
        "colab": {
          "base_uri": "https://localhost:8080/"
        },
        "id": "kp7ePFTytjdz",
        "outputId": "958b873f-3b57-4e9f-9fcd-8a36d6d915cf"
      },
      "execution_count": 13,
      "outputs": [
        {
          "output_type": "stream",
          "name": "stdout",
          "text": [
            "(7, [5, 2])\n",
            "(9.14159, [6, 3.14159])\n",
            "(15, [10, 5])\n"
          ]
        }
      ]
    }
  ]
}