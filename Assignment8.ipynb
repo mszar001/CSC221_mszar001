{
  "nbformat": 4,
  "nbformat_minor": 0,
  "metadata": {
    "colab": {
      "provenance": [],
      "authorship_tag": "ABX9TyNnVyfvtB0WQ2QAKUjAOJAJ",
      "include_colab_link": true
    },
    "kernelspec": {
      "name": "python3",
      "display_name": "Python 3"
    },
    "language_info": {
      "name": "python"
    }
  },
  "cells": [
    {
      "cell_type": "markdown",
      "metadata": {
        "id": "view-in-github",
        "colab_type": "text"
      },
      "source": [
        "<a href=\"https://colab.research.google.com/github/mszar001/CSC221_mszar001/blob/main/Assignment8.ipynb\" target=\"_parent\"><img src=\"https://colab.research.google.com/assets/colab-badge.svg\" alt=\"Open In Colab\"/></a>"
      ]
    },
    {
      "cell_type": "code",
      "execution_count": 11,
      "metadata": {
        "colab": {
          "base_uri": "https://localhost:8080/"
        },
        "id": "MpUeXFUnKxgW",
        "outputId": "c85e08a4-8a10-4728-e787-b190289bb15e"
      },
      "outputs": [
        {
          "output_type": "stream",
          "name": "stdout",
          "text": [
            "Tell me something, and I'll repeat it back to you! 47\n",
            "47\n",
            "\n",
            "\n",
            "If you share your first name, we can personalize the messages you see.\n",
            "What is your first name? Me\n",
            "\n",
            "Hello, Me\n",
            "How old are you? 19\n",
            "\n",
            "\n",
            "How tall are you, in inches? 91\n",
            "\n",
            "You're tall enough to ride!\n",
            "\n",
            "\n",
            "Give me a number, and I'll tell if it's even or odd.47\n",
            "47 is Odd\n"
          ]
        }
      ],
      "source": [
        "#parrot.py\n",
        "\n",
        "message = input(\"Tell me something, and I'll repeat it back to you! \")\n",
        "print(message)\n",
        "\n",
        "print(\"\\n\")\n",
        "#greeting.py\n",
        "\n",
        "prompt = 'If you share your first name, we can personalize the messages you see.'\n",
        "prompt += '\\nWhat is your first name? '\n",
        "name = input(prompt)\n",
        "print(f\"\\nHello, {name}\")\n",
        "\n",
        "#'age.py'\n",
        "\n",
        "age = input('How old are you? ')\n",
        "age = int(age)\n",
        "age >= 18\n",
        "\n",
        "print('\\n')\n",
        "#rollercoaster.py\n",
        "\n",
        "height = input('How tall are you, in inches? ')\n",
        "height = int(height)\n",
        "if height >=48:\n",
        "  print(\"\\nYou're tall enough to ride!\")\n",
        "else:\n",
        "  print(\"\\nYou'll be able to ride when you're a little bit older.\")\n",
        "\n",
        "print('\\n')\n",
        "#even_or_odd.py\n",
        "\n",
        "number = input(\"Give me a number, and I'll tell if it's even or odd. \")\n",
        "number = int(number)\n",
        "if number % 2 == 0:\n",
        "  print(f'{number} is Even')\n",
        "else:\n",
        "  print(f'{number} is Odd')"
      ]
    },
    {
      "cell_type": "code",
      "source": [
        "#7-1 'Rental Car'\n",
        "\n",
        "car = input('What kind of rental car would you like? ')\n",
        "print(f\"I'll see if I can find a {car} for you.\")\n",
        "\n",
        "print('\\n')\n",
        "#7-3 'Multiples of Ten'\n",
        "\n",
        "num = input('Give a number, any number! ')\n",
        "num = int(num)\n",
        "if num % 10 == 0:\n",
        "  print(f'{num} is a multiple of 10!')\n",
        "else:\n",
        "  print(f'{num} is not a multiple of 10!')"
      ],
      "metadata": {
        "colab": {
          "base_uri": "https://localhost:8080/"
        },
        "id": "LxiDqyUmRPgr",
        "outputId": "65c2b640-bbff-40ab-f864-8f4831b9a234"
      },
      "execution_count": 16,
      "outputs": [
        {
          "output_type": "stream",
          "name": "stdout",
          "text": [
            "What kind of rental car would you like? Meow\n",
            "I'll see if I can find a Meow for you.\n",
            "\n",
            "\n",
            "Give a number, any number!42\n",
            "42 is not a multiple of 10!\n"
          ]
        }
      ]
    },
    {
      "cell_type": "code",
      "source": [
        "#counting.py\n",
        "\n",
        "current_number = 1\n",
        "while current_number <= 5:\n",
        "  print(current_number)\n",
        "  current_number += 1\n",
        "\n",
        "print('\\n')\n",
        "#parrot.py\n",
        "\n",
        "prompt = \"Tell me something, and I'll tell it back to you.\"\n",
        "prompt += '\\nEnter \"quit\" to end the program.'\n",
        "\n",
        "active = True\n",
        "while active == True:\n",
        "  message = input(prompt)\n",
        "  if message == 'quit':\n",
        "    active = False\n",
        "  else:\n",
        "    print(message)\n",
        "\n",
        "print('\\n')\n",
        "#cities.py\n",
        "\n",
        "prompt = \"\\nPlease enter the name of a city you have visited:\"\n",
        "prompt += \"\\n(Enter 'quit' once you are finished.) \"\n",
        "while True:\n",
        "  city = input(prompt)\n",
        "  if city == 'quit':\n",
        "    break\n",
        "  else:\n",
        "    print(f\"I'd love to go to {city.title()}!\")\n",
        "\n",
        "print('\\n')\n",
        "#counting.py\n",
        "\n",
        "current_number = 0\n",
        "while current_number < 10:\n",
        "  current_number += 1\n",
        "  if current_number % 2 == 0:\n",
        "    continue\n",
        "  print(current_number)\n",
        "\n",
        "print('\\n')\n",
        "#counting.py (2)\n",
        "x = 1\n",
        "while x <= 5:\n",
        "  print(x)\n",
        "  x += 1"
      ],
      "metadata": {
        "colab": {
          "base_uri": "https://localhost:8080/",
          "height": 513
        },
        "id": "o9cZ6b1kSISk",
        "outputId": "a58e2aa5-d759-42d3-cdf6-e2e6adb31ae2"
      },
      "execution_count": 24,
      "outputs": [
        {
          "output_type": "stream",
          "name": "stdout",
          "text": [
            "1\n",
            "2\n",
            "3\n",
            "4\n",
            "5\n",
            "\n",
            "\n"
          ]
        },
        {
          "output_type": "error",
          "ename": "KeyboardInterrupt",
          "evalue": "ignored",
          "traceback": [
            "\u001b[0;31m---------------------------------------------------------------------------\u001b[0m",
            "\u001b[0;31mKeyboardInterrupt\u001b[0m                         Traceback (most recent call last)",
            "\u001b[0;32m<ipython-input-24-ae5fa57e9aa2>\u001b[0m in \u001b[0;36m<cell line: 15>\u001b[0;34m()\u001b[0m\n\u001b[1;32m     14\u001b[0m \u001b[0mactive\u001b[0m \u001b[0;34m=\u001b[0m \u001b[0;32mTrue\u001b[0m\u001b[0;34m\u001b[0m\u001b[0;34m\u001b[0m\u001b[0m\n\u001b[1;32m     15\u001b[0m \u001b[0;32mwhile\u001b[0m \u001b[0mactive\u001b[0m \u001b[0;34m==\u001b[0m \u001b[0;32mTrue\u001b[0m\u001b[0;34m:\u001b[0m\u001b[0;34m\u001b[0m\u001b[0;34m\u001b[0m\u001b[0m\n\u001b[0;32m---> 16\u001b[0;31m   \u001b[0mmessage\u001b[0m \u001b[0;34m=\u001b[0m \u001b[0minput\u001b[0m\u001b[0;34m(\u001b[0m\u001b[0mprompt\u001b[0m\u001b[0;34m)\u001b[0m\u001b[0;34m\u001b[0m\u001b[0;34m\u001b[0m\u001b[0m\n\u001b[0m\u001b[1;32m     17\u001b[0m   \u001b[0;32mif\u001b[0m \u001b[0mmessage\u001b[0m \u001b[0;34m==\u001b[0m \u001b[0;34m'quit'\u001b[0m\u001b[0;34m:\u001b[0m\u001b[0;34m\u001b[0m\u001b[0;34m\u001b[0m\u001b[0m\n\u001b[1;32m     18\u001b[0m     \u001b[0mactive\u001b[0m \u001b[0;34m=\u001b[0m \u001b[0;32mFalse\u001b[0m\u001b[0;34m\u001b[0m\u001b[0;34m\u001b[0m\u001b[0m\n",
            "\u001b[0;32m/usr/local/lib/python3.10/dist-packages/ipykernel/kernelbase.py\u001b[0m in \u001b[0;36mraw_input\u001b[0;34m(self, prompt)\u001b[0m\n\u001b[1;32m    849\u001b[0m                 \u001b[0;34m\"raw_input was called, but this frontend does not support input requests.\"\u001b[0m\u001b[0;34m\u001b[0m\u001b[0;34m\u001b[0m\u001b[0m\n\u001b[1;32m    850\u001b[0m             )\n\u001b[0;32m--> 851\u001b[0;31m         return self._input_request(str(prompt),\n\u001b[0m\u001b[1;32m    852\u001b[0m             \u001b[0mself\u001b[0m\u001b[0;34m.\u001b[0m\u001b[0m_parent_ident\u001b[0m\u001b[0;34m,\u001b[0m\u001b[0;34m\u001b[0m\u001b[0;34m\u001b[0m\u001b[0m\n\u001b[1;32m    853\u001b[0m             \u001b[0mself\u001b[0m\u001b[0;34m.\u001b[0m\u001b[0m_parent_header\u001b[0m\u001b[0;34m,\u001b[0m\u001b[0;34m\u001b[0m\u001b[0;34m\u001b[0m\u001b[0m\n",
            "\u001b[0;32m/usr/local/lib/python3.10/dist-packages/ipykernel/kernelbase.py\u001b[0m in \u001b[0;36m_input_request\u001b[0;34m(self, prompt, ident, parent, password)\u001b[0m\n\u001b[1;32m    893\u001b[0m             \u001b[0;32mexcept\u001b[0m \u001b[0mKeyboardInterrupt\u001b[0m\u001b[0;34m:\u001b[0m\u001b[0;34m\u001b[0m\u001b[0;34m\u001b[0m\u001b[0m\n\u001b[1;32m    894\u001b[0m                 \u001b[0;31m# re-raise KeyboardInterrupt, to truncate traceback\u001b[0m\u001b[0;34m\u001b[0m\u001b[0;34m\u001b[0m\u001b[0m\n\u001b[0;32m--> 895\u001b[0;31m                 \u001b[0;32mraise\u001b[0m \u001b[0mKeyboardInterrupt\u001b[0m\u001b[0;34m(\u001b[0m\u001b[0;34m\"Interrupted by user\"\u001b[0m\u001b[0;34m)\u001b[0m \u001b[0;32mfrom\u001b[0m \u001b[0;32mNone\u001b[0m\u001b[0;34m\u001b[0m\u001b[0;34m\u001b[0m\u001b[0m\n\u001b[0m\u001b[1;32m    896\u001b[0m             \u001b[0;32mexcept\u001b[0m \u001b[0mException\u001b[0m \u001b[0;32mas\u001b[0m \u001b[0me\u001b[0m\u001b[0;34m:\u001b[0m\u001b[0;34m\u001b[0m\u001b[0;34m\u001b[0m\u001b[0m\n\u001b[1;32m    897\u001b[0m                 \u001b[0mself\u001b[0m\u001b[0;34m.\u001b[0m\u001b[0mlog\u001b[0m\u001b[0;34m.\u001b[0m\u001b[0mwarning\u001b[0m\u001b[0;34m(\u001b[0m\u001b[0;34m\"Invalid Message:\"\u001b[0m\u001b[0;34m,\u001b[0m \u001b[0mexc_info\u001b[0m\u001b[0;34m=\u001b[0m\u001b[0;32mTrue\u001b[0m\u001b[0;34m)\u001b[0m\u001b[0;34m\u001b[0m\u001b[0;34m\u001b[0m\u001b[0m\n",
            "\u001b[0;31mKeyboardInterrupt\u001b[0m: Interrupted by user"
          ]
        }
      ]
    },
    {
      "cell_type": "code",
      "source": [
        "#7-5 'Movie Tickets'\n",
        "\n",
        "prompt = \"\\nPlease enter your age:\"\n",
        "prompt += \"\\n(Enter 'quit' once you are finished.) \"\n",
        "loop = True\n",
        "while loop:\n",
        "  age = input(prompt)\n",
        "  if (age == 'quit'):\n",
        "    loop = False\n",
        "    continue\n",
        "  else:\n",
        "    age = int(age)\n",
        "    if(age < 3):\n",
        "      print('Your ticket is free.')\n",
        "    elif(age < 12):\n",
        "      print('Your ticket is $10')\n",
        "    else:\n",
        "      print('Your ticket is $15')\n",
        "print('Thank you')\n",
        "\n",
        "print('\\n')\n",
        "#7-6 'Three Exits'\n",
        "\n",
        "#I've already done an active variable, so I won't remake that one.\n",
        "\n",
        "#Use of 'break' command\n",
        "while True:\n",
        "  age = input(prompt)\n",
        "  if (age == 'quit'):\n",
        "    break\n",
        "  else:\n",
        "    age = int(age)\n",
        "    if(age < 3):\n",
        "      print('Your ticket is free.')\n",
        "    elif(age < 12):\n",
        "      print('Your ticket is $10')\n",
        "    else:\n",
        "      print('Your ticket is $15')\n",
        "print('Thank you')\n",
        "\n",
        "#Conditional in while loop\n",
        "people = 0\n",
        "while people <= 5:\n",
        "  age = input('Please enter your age.')\n",
        "  age = int(age)\n",
        "  if(age < 3):\n",
        "    print('Your ticket is free.')\n",
        "  elif(age < 12):\n",
        "    print('Your ticket is $10')\n",
        "  else:\n",
        "    print('Your ticket is $15')\n",
        "  people += 1\n",
        "print('Thank you')"
      ],
      "metadata": {
        "colab": {
          "base_uri": "https://localhost:8080/",
          "height": 471
        },
        "id": "esT0X17uS1uB",
        "outputId": "17847bf5-4990-4bb0-d0f0-0c45924de7c2"
      },
      "execution_count": 27,
      "outputs": [
        {
          "name": "stdout",
          "output_type": "stream",
          "text": [
            "\n",
            "Please enter your age:\n",
            "(Enter 'quit' once you are finished.) quit\n",
            "Thank you\n",
            "\n",
            "\n",
            "\n",
            "Please enter your age:\n",
            "(Enter 'quit' once you are finished.) quit\n",
            "Thank you\n",
            "Please enter your age.1\n",
            "Your ticket is free.\n",
            "Please enter your age.\n"
          ]
        },
        {
          "output_type": "error",
          "ename": "ValueError",
          "evalue": "ignored",
          "traceback": [
            "\u001b[0;31m---------------------------------------------------------------------------\u001b[0m",
            "\u001b[0;31mValueError\u001b[0m                                Traceback (most recent call last)",
            "\u001b[0;32m<ipython-input-27-b1d503429d99>\u001b[0m in \u001b[0;36m<cell line: 43>\u001b[0;34m()\u001b[0m\n\u001b[1;32m     43\u001b[0m \u001b[0;32mwhile\u001b[0m \u001b[0mpeople\u001b[0m \u001b[0;34m<=\u001b[0m \u001b[0;36m5\u001b[0m\u001b[0;34m:\u001b[0m\u001b[0;34m\u001b[0m\u001b[0;34m\u001b[0m\u001b[0m\n\u001b[1;32m     44\u001b[0m   \u001b[0mage\u001b[0m \u001b[0;34m=\u001b[0m \u001b[0minput\u001b[0m\u001b[0;34m(\u001b[0m\u001b[0;34m'Please enter your age.'\u001b[0m\u001b[0;34m)\u001b[0m\u001b[0;34m\u001b[0m\u001b[0;34m\u001b[0m\u001b[0m\n\u001b[0;32m---> 45\u001b[0;31m   \u001b[0mage\u001b[0m \u001b[0;34m=\u001b[0m \u001b[0mint\u001b[0m\u001b[0;34m(\u001b[0m\u001b[0mage\u001b[0m\u001b[0;34m)\u001b[0m\u001b[0;34m\u001b[0m\u001b[0;34m\u001b[0m\u001b[0m\n\u001b[0m\u001b[1;32m     46\u001b[0m   \u001b[0;32mif\u001b[0m\u001b[0;34m(\u001b[0m\u001b[0mage\u001b[0m \u001b[0;34m<\u001b[0m \u001b[0;36m3\u001b[0m\u001b[0;34m)\u001b[0m\u001b[0;34m:\u001b[0m\u001b[0;34m\u001b[0m\u001b[0;34m\u001b[0m\u001b[0m\n\u001b[1;32m     47\u001b[0m     \u001b[0mprint\u001b[0m\u001b[0;34m(\u001b[0m\u001b[0;34m'Your ticket is free.'\u001b[0m\u001b[0;34m)\u001b[0m\u001b[0;34m\u001b[0m\u001b[0;34m\u001b[0m\u001b[0m\n",
            "\u001b[0;31mValueError\u001b[0m: invalid literal for int() with base 10: ''"
          ]
        }
      ]
    },
    {
      "cell_type": "code",
      "source": [
        "#confirmed_users.py\n",
        "\n",
        "unconfirmed_users = ['alice', 'brian', 'candace']\n",
        "confirmed_users = []\n",
        "while unconfirmed_users:\n",
        "  current_user = unconfirmed_users.pop()\n",
        "  print(f\"Verifying user: {current_user.title()}\")\n",
        "  confirmed_users.append(current_user)\n",
        "print(\"\\nThe following users have been confirmed:\")\n",
        "for confirmed_users in confirmed_users:\n",
        "  print(confirmed_users.title())\n",
        "\n",
        "print('\\n')\n",
        "#pets.py\n",
        "pets = ['dog', 'cat', 'dog', 'goldfish', 'cat', 'rabbit', 'cat']\n",
        "print(pets)\n",
        "\n",
        "while 'cat' in pets:\n",
        "  pets.remove('cat')\n",
        "print(pets)\n",
        "\n",
        "print('\\n')\n",
        "#mountain_poll.py\n",
        "responses = {}\n",
        "polling_active = True\n",
        "while polling_active:\n",
        "  name = input('\\nWhat is your name? ')\n",
        "  response = input(\"Which mountain would you like to climb someday?\")\n",
        "  responses[name] = response\n",
        "  repeat = input(\"Would you like to let another person respond? yes / no \")\n",
        "  if repeat == 'no':\n",
        "    polling_active = False\n",
        "print(\"\\n--- Poll Results ---\")\n",
        "for name, response in responses.items():\n",
        "  print(f\"{name} would like to climb {response}.\")"
      ],
      "metadata": {
        "colab": {
          "base_uri": "https://localhost:8080/"
        },
        "id": "DNGW7oVKhpjT",
        "outputId": "f0cdc1b1-719d-416b-ccb2-6fad33e2bd95"
      },
      "execution_count": 30,
      "outputs": [
        {
          "output_type": "stream",
          "name": "stdout",
          "text": [
            "Verifying user: Candace\n",
            "Verifying user: Brian\n",
            "Verifying user: Alice\n",
            "\n",
            "The following users have been confirmed:\n",
            "Candace\n",
            "Brian\n",
            "Alice\n",
            "\n",
            "\n",
            "['dog', 'cat', 'dog', 'goldfish', 'cat', 'rabbit', 'cat']\n",
            "['dog', 'dog', 'goldfish', 'rabbit']\n",
            "\n",
            "\n",
            "\n",
            "What is your name? Ghost\n",
            "Which mountain would you like to climb someday?Marcy\n",
            "Would you like to let another person respond? yes / no no\n",
            "\n",
            "--- Poll Results ---\n",
            "Ghost would like to climb Marcy.\n"
          ]
        }
      ]
    },
    {
      "cell_type": "code",
      "source": [
        "#7-8 'Deli'\n",
        "\n",
        "sandwich_orders = ['tuna', 'ham and cheese', 'bacon', 'blt', 'grilled cheese', 'pbj']\n",
        "finished_sandwiches = []\n",
        "while sandwich_orders:\n",
        "  current_order = sandwich_orders.pop()\n",
        "  print(f\"Making {current_order} sandwich...\")\n",
        "  print(f'{current_order} sandwich complete.\\n')\n",
        "  finished_sandwiches.append(current_order)\n",
        "print(\"\\nAll sandwiches complete.\\n\")\n",
        "for finished_sandwiches in finished_sandwiches:\n",
        "  print(f\"{finished_sandwiches} sandwich has been served.\")"
      ],
      "metadata": {
        "colab": {
          "base_uri": "https://localhost:8080/"
        },
        "id": "2DMCupt3mHTG",
        "outputId": "876a3882-2e52-428c-9c2b-72dfacf8fe2d"
      },
      "execution_count": 33,
      "outputs": [
        {
          "output_type": "stream",
          "name": "stdout",
          "text": [
            "Making pbj sandwich...\n",
            "pbj sandwich complete.\n",
            "\n",
            "Making grilled cheese sandwich...\n",
            "grilled cheese sandwich complete.\n",
            "\n",
            "Making blt sandwich...\n",
            "blt sandwich complete.\n",
            "\n",
            "Making bacon sandwich...\n",
            "bacon sandwich complete.\n",
            "\n",
            "Making ham and cheese sandwich...\n",
            "ham and cheese sandwich complete.\n",
            "\n",
            "Making tuna sandwich...\n",
            "tuna sandwich complete.\n",
            "\n",
            "\n",
            "All sandwiches complete.\n",
            "\n",
            "pbj sandwich has been served.\n",
            "grilled cheese sandwich has been served.\n",
            "blt sandwich has been served.\n",
            "bacon sandwich has been served.\n",
            "ham and cheese sandwich has been served.\n",
            "tuna sandwich has been served.\n"
          ]
        }
      ]
    },
    {
      "cell_type": "code",
      "source": [
        "#Calculator\n",
        "\n",
        "num1 = 0\n",
        "num2 = ''\n",
        "sign = ''\n",
        "answer = 0\n",
        "running = True\n",
        "while running:\n",
        "  num2 = input(\"What's your number? ('exit' to cancel) \")\n",
        "  if num2 == 'exit':\n",
        "    running = False\n",
        "  else:\n",
        "    sign = input(\"What operation would you like to do? \")\n",
        "    num2 = int(num2)\n",
        "    if sign == '+':\n",
        "      answer = num1 + num2\n",
        "    elif sign == '-':\n",
        "      answer = num1 - num2\n",
        "    elif sign == '*':\n",
        "      answer = num1 * num2\n",
        "    elif sign == '/':\n",
        "      answer = num1 / num2\n",
        "    num1 = answer\n",
        "    print(answer)"
      ],
      "metadata": {
        "colab": {
          "base_uri": "https://localhost:8080/"
        },
        "id": "-q35CtJErPuw",
        "outputId": "a6bd7464-b7ba-4fac-a00e-b7ba9c8b58e0"
      },
      "execution_count": 41,
      "outputs": [
        {
          "name": "stdout",
          "output_type": "stream",
          "text": [
            "What's your number? ('exit' to cancel) 5\n",
            "What operation would you like to do? +\n",
            "5\n",
            "What's your number? ('exit' to cancel) exit\n"
          ]
        }
      ]
    }
  ]
}